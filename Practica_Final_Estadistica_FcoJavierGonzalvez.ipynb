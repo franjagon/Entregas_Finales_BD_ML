{
 "cells": [
  {
   "cell_type": "markdown",
   "metadata": {},
   "source": [
    "<p style = \"padding: 30px; font-size: 30px; font-weight: bold; background-color: rgb #ffffc4\"><font color='navy'>\n",
    "&nbsp;&nbsp;&nbsp;&nbsp;&nbsp;&nbsp;&nbsp;&nbsp;&nbsp;&nbsp;&nbsp;&nbsp;&nbsp;&nbsp;&nbsp;BOOTCAMP BIG DATA & MACHINE LEARNING</font></p>\n",
    "<p style = \"padding: 10px; font-size: 20px; font-weight: bold; background-color: rgb #ffffc4\"><font color='black'>&nbsp;&nbsp;&nbsp;&nbsp;&nbsp;&nbsp;&nbsp;&nbsp;&nbsp;&nbsp;&nbsp;&nbsp;&nbsp;&nbsp;&nbsp;\n",
    "ASIGNATURA&nbsp;&nbsp;&nbsp;&nbsp;&nbsp;Estadística</font></p>\n",
    "<p style = \"padding: 10px; font-size: 20px; font-weight: bold; background-color: rgb #ffffc4\"><font color='gray'>&nbsp;&nbsp;&nbsp;&nbsp;&nbsp;&nbsp;&nbsp;&nbsp;&nbsp;&nbsp;&nbsp;&nbsp;&nbsp;&nbsp;&nbsp;\n",
    "NOMBRE&nbsp;&nbsp;&nbsp;&nbsp;&nbsp;&nbsp;&nbsp;&nbsp;&nbsp;&nbsp;&nbsp;&nbsp;Francisco Javier Gonzálvez Chico</font></p>"
   ]
  },
  {
   "cell_type": "code",
   "execution_count": 1,
   "metadata": {},
   "outputs": [],
   "source": [
    "library(ggplot2)\n",
    "options(repr.plot.height = 4, repr.plot.width = 6)"
   ]
  },
  {
   "cell_type": "markdown",
   "metadata": {},
   "source": [
    "Cargar los datos en un dataframe llamado: airbnb"
   ]
  },
  {
   "cell_type": "code",
   "execution_count": 2,
   "metadata": {},
   "outputs": [
    {
     "name": "stdout",
     "output_type": "stream",
     "text": [
      "'data.frame':\t13207 obs. of  13 variables:\n",
      " $ Zipcode               : Factor w/ 77 levels \"\",\"-\",\"20013\",..: 15 15 15 15 26 15 15 15 26 15 ...\n",
      " $ Neighbourhood.Cleansed: Factor w/ 125 levels \"Abrantes\",\"Acacias\",..: 115 115 115 115 115 115 115 115 115 115 ...\n",
      " $ Property.Type         : Factor w/ 22 levels \"Apartment\",\"Bed & Breakfast\",..: 1 1 1 16 1 1 15 1 1 1 ...\n",
      " $ Room.Type             : Factor w/ 3 levels \"Entire home/apt\",..: 2 1 1 1 1 1 2 1 1 1 ...\n",
      " $ Accommodates          : int  2 6 3 3 5 2 7 3 2 4 ...\n",
      " $ Bathrooms             : num  2 1 1 2 1 1 5 1 1 2 ...\n",
      " $ Bedrooms              : int  1 3 2 1 1 0 1 1 1 2 ...\n",
      " $ Beds                  : int  1 5 2 1 1 1 7 NA 1 2 ...\n",
      " $ Bed.Type              : Factor w/ 5 levels \"Airbed\",\"Couch\",..: 5 5 5 5 5 5 5 5 5 5 ...\n",
      " $ Amenities             : Factor w/ 11073 levels \"\",\"Air conditioning,Breakfast,Washer,Essentials,Hair dryer\",..: 9444 4020 3249 4039 8369 2047 961 7436 5618 7736 ...\n",
      " $ Square.Feet           : int  NA NA NA NA 538 NA NA NA 700 NA ...\n",
      " $ Price                 : int  35 92 55 60 75 55 60 70 90 155 ...\n",
      " $ Review.Scores.Rating  : int  NA 96 91 100 90 95 77 84 98 NA ...\n"
     ]
    }
   ],
   "source": [
    "airbnb <- read.csv('data//airbnb.csv', sep = ',')\n",
    "str(airbnb)"
   ]
  },
  {
   "cell_type": "markdown",
   "metadata": {},
   "source": [
    "Mostrar las primeras 6 filas del dataframe"
   ]
  },
  {
   "cell_type": "code",
   "execution_count": 3,
   "metadata": {
    "scrolled": true
   },
   "outputs": [
    {
     "data": {
      "text/html": [
       "<table>\n",
       "<thead><tr><th scope=col>Zipcode</th><th scope=col>Neighbourhood.Cleansed</th><th scope=col>Property.Type</th><th scope=col>Room.Type</th><th scope=col>Accommodates</th><th scope=col>Bathrooms</th><th scope=col>Bedrooms</th><th scope=col>Beds</th><th scope=col>Bed.Type</th><th scope=col>Amenities</th><th scope=col>Square.Feet</th><th scope=col>Price</th><th scope=col>Review.Scores.Rating</th></tr></thead>\n",
       "<tbody>\n",
       "\t<tr><td>28004                                                                                                                                                                                                                                                                                                                                                           </td><td>Universidad                                                                                                                                                                                                                                                                                                                                                     </td><td>Apartment                                                                                                                                                                                                                                                                                                                                                       </td><td>Private room                                                                                                                                                                                                                                                                                                                                                    </td><td>2                                                                                                                                                                                                                                                                                                                                                               </td><td>2                                                                                                                                                                                                                                                                                                                                                               </td><td>1                                                                                                                                                                                                                                                                                                                                                               </td><td>1                                                                                                                                                                                                                                                                                                                                                               </td><td>Real Bed                                                                                                                                                                                                                                                                                                                                                        </td><td>TV,Wireless Internet,Kitchen,Pets allowed,Pets live on this property,Buzzer/wireless intercom,Heating,Suitable for events,Washer,First aid kit,Essentials,Lock on bedroom door,Iron                                                                                                                                                                             </td><td> NA                                                                                                                                                                                                                                                                                                                                                             </td><td>35                                                                                                                                                                                                                                                                                                                                                              </td><td> NA                                                                                                                                                                                                                                                                                                                                                             </td></tr>\n",
       "\t<tr><td>28004                                                                                                                                                                                                                                                                                                                                                           </td><td>Universidad                                                                                                                                                                                                                                                                                                                                                     </td><td>Apartment                                                                                                                                                                                                                                                                                                                                                       </td><td>Entire home/apt                                                                                                                                                                                                                                                                                                                                                 </td><td>6                                                                                                                                                                                                                                                                                                                                                               </td><td>1                                                                                                                                                                                                                                                                                                                                                               </td><td>3                                                                                                                                                                                                                                                                                                                                                               </td><td>5                                                                                                                                                                                                                                                                                                                                                               </td><td>Real Bed                                                                                                                                                                                                                                                                                                                                                        </td><td>TV,Internet,Wireless Internet,Air conditioning,Kitchen,Indoor fireplace,Heating,Family/kid friendly,Washer,Dryer,Smoke detector,Carbon monoxide detector,Essentials,Shampoo                                                                                                                                                                                     </td><td> NA                                                                                                                                                                                                                                                                                                                                                             </td><td>92                                                                                                                                                                                                                                                                                                                                                              </td><td> 96                                                                                                                                                                                                                                                                                                                                                             </td></tr>\n",
       "\t<tr><td>28004                                                                                                                                                                                                                                                                                                                                                           </td><td>Universidad                                                                                                                                                                                                                                                                                                                                                     </td><td>Apartment                                                                                                                                                                                                                                                                                                                                                       </td><td>Entire home/apt                                                                                                                                                                                                                                                                                                                                                 </td><td>3                                                                                                                                                                                                                                                                                                                                                               </td><td>1                                                                                                                                                                                                                                                                                                                                                               </td><td>2                                                                                                                                                                                                                                                                                                                                                               </td><td>2                                                                                                                                                                                                                                                                                                                                                               </td><td>Real Bed                                                                                                                                                                                                                                                                                                                                                        </td><td>TV,Internet,Wireless Internet,Air conditioning,Kitchen,Doorman,Heating,Family/kid friendly,Washer,Essentials,Shampoo,Hangers,Hair dryer,Iron,Laptop friendly workspace                                                                                                                                                                                          </td><td> NA                                                                                                                                                                                                                                                                                                                                                             </td><td>55                                                                                                                                                                                                                                                                                                                                                              </td><td> 91                                                                                                                                                                                                                                                                                                                                                             </td></tr>\n",
       "\t<tr><td>28004                                                                                                                                                                                                                                                                                                                                                           </td><td>Universidad                                                                                                                                                                                                                                                                                                                                                     </td><td>Loft                                                                                                                                                                                                                                                                                                                                                            </td><td>Entire home/apt                                                                                                                                                                                                                                                                                                                                                 </td><td>3                                                                                                                                                                                                                                                                                                                                                               </td><td>2                                                                                                                                                                                                                                                                                                                                                               </td><td>1                                                                                                                                                                                                                                                                                                                                                               </td><td>1                                                                                                                                                                                                                                                                                                                                                               </td><td>Real Bed                                                                                                                                                                                                                                                                                                                                                        </td><td>TV,Internet,Wireless Internet,Air conditioning,Kitchen,Pets allowed,Breakfast,Elevator in building,Indoor fireplace,Buzzer/wireless intercom,Heating,Washer,Essentials,Shampoo,Hangers,Hair dryer,Iron,Laptop friendly workspace,translation missing: en.hosting_amenity_49,translation missing: en.hosting_amenity_50                                          </td><td> NA                                                                                                                                                                                                                                                                                                                                                             </td><td>60                                                                                                                                                                                                                                                                                                                                                              </td><td>100                                                                                                                                                                                                                                                                                                                                                             </td></tr>\n",
       "\t<tr><td>28015                                                                                                                                                                                                                                                                                                                                                           </td><td>Universidad                                                                                                                                                                                                                                                                                                                                                     </td><td>Apartment                                                                                                                                                                                                                                                                                                                                                       </td><td>Entire home/apt                                                                                                                                                                                                                                                                                                                                                 </td><td>5                                                                                                                                                                                                                                                                                                                                                               </td><td>1                                                                                                                                                                                                                                                                                                                                                               </td><td>1                                                                                                                                                                                                                                                                                                                                                               </td><td>1                                                                                                                                                                                                                                                                                                                                                               </td><td>Real Bed                                                                                                                                                                                                                                                                                                                                                        </td><td>TV,Wireless Internet,Air conditioning,Kitchen,Smoking allowed,Pets allowed,Elevator in building,Heating,Family/kid friendly,Washer,Essentials,Iron                                                                                                                                                                                                              </td><td>538                                                                                                                                                                                                                                                                                                                                                             </td><td>75                                                                                                                                                                                                                                                                                                                                                              </td><td> 90                                                                                                                                                                                                                                                                                                                                                             </td></tr>\n",
       "\t<tr><td>28004                                                                                                                                                                                                                                                                                                                                                           </td><td>Universidad                                                                                                                                                                                                                                                                                                                                                     </td><td>Apartment                                                                                                                                                                                                                                                                                                                                                       </td><td>Entire home/apt                                                                                                                                                                                                                                                                                                                                                 </td><td>2                                                                                                                                                                                                                                                                                                                                                               </td><td>1                                                                                                                                                                                                                                                                                                                                                               </td><td>0                                                                                                                                                                                                                                                                                                                                                               </td><td>1                                                                                                                                                                                                                                                                                                                                                               </td><td>Real Bed                                                                                                                                                                                                                                                                                                                                                        </td><td>TV,Cable TV,Internet,Wireless Internet,Air conditioning,Wheelchair accessible,Kitchen,Doorman,Elevator in building,Buzzer/wireless intercom,Heating,Washer,Smoke detector,Carbon monoxide detector,First aid kit,Safety card,Fire extinguisher,Essentials,Shampoo,24-hour check-in,Hangers,Hair dryer,Iron,Laptop friendly workspace,Self Check-In,Doorman Entry</td><td> NA                                                                                                                                                                                                                                                                                                                                                             </td><td>55                                                                                                                                                                                                                                                                                                                                                              </td><td> 95                                                                                                                                                                                                                                                                                                                                                             </td></tr>\n",
       "</tbody>\n",
       "</table>\n"
      ],
      "text/latex": [
       "\\begin{tabular}{r|lllllllllllll}\n",
       " Zipcode & Neighbourhood.Cleansed & Property.Type & Room.Type & Accommodates & Bathrooms & Bedrooms & Beds & Bed.Type & Amenities & Square.Feet & Price & Review.Scores.Rating\\\\\n",
       "\\hline\n",
       "\t 28004                                                                                                                                                                                                                                                                                                                                                            & Universidad                                                                                                                                                                                                                                                                                                                                                      & Apartment                                                                                                                                                                                                                                                                                                                                                        & Private room                                                                                                                                                                                                                                                                                                                                                     & 2                                                                                                                                                                                                                                                                                                                                                                & 2                                                                                                                                                                                                                                                                                                                                                                & 1                                                                                                                                                                                                                                                                                                                                                                & 1                                                                                                                                                                                                                                                                                                                                                                & Real Bed                                                                                                                                                                                                                                                                                                                                                         & TV,Wireless Internet,Kitchen,Pets allowed,Pets live on this property,Buzzer/wireless intercom,Heating,Suitable for events,Washer,First aid kit,Essentials,Lock on bedroom door,Iron                                                                                                                                                                              &  NA                                                                                                                                                                                                                                                                                                                                                              & 35                                                                                                                                                                                                                                                                                                                                                               &  NA                                                                                                                                                                                                                                                                                                                                                             \\\\\n",
       "\t 28004                                                                                                                                                                                                                                                                                                                                                            & Universidad                                                                                                                                                                                                                                                                                                                                                      & Apartment                                                                                                                                                                                                                                                                                                                                                        & Entire home/apt                                                                                                                                                                                                                                                                                                                                                  & 6                                                                                                                                                                                                                                                                                                                                                                & 1                                                                                                                                                                                                                                                                                                                                                                & 3                                                                                                                                                                                                                                                                                                                                                                & 5                                                                                                                                                                                                                                                                                                                                                                & Real Bed                                                                                                                                                                                                                                                                                                                                                         & TV,Internet,Wireless Internet,Air conditioning,Kitchen,Indoor fireplace,Heating,Family/kid friendly,Washer,Dryer,Smoke detector,Carbon monoxide detector,Essentials,Shampoo                                                                                                                                                                                      &  NA                                                                                                                                                                                                                                                                                                                                                              & 92                                                                                                                                                                                                                                                                                                                                                               &  96                                                                                                                                                                                                                                                                                                                                                             \\\\\n",
       "\t 28004                                                                                                                                                                                                                                                                                                                                                            & Universidad                                                                                                                                                                                                                                                                                                                                                      & Apartment                                                                                                                                                                                                                                                                                                                                                        & Entire home/apt                                                                                                                                                                                                                                                                                                                                                  & 3                                                                                                                                                                                                                                                                                                                                                                & 1                                                                                                                                                                                                                                                                                                                                                                & 2                                                                                                                                                                                                                                                                                                                                                                & 2                                                                                                                                                                                                                                                                                                                                                                & Real Bed                                                                                                                                                                                                                                                                                                                                                         & TV,Internet,Wireless Internet,Air conditioning,Kitchen,Doorman,Heating,Family/kid friendly,Washer,Essentials,Shampoo,Hangers,Hair dryer,Iron,Laptop friendly workspace                                                                                                                                                                                           &  NA                                                                                                                                                                                                                                                                                                                                                              & 55                                                                                                                                                                                                                                                                                                                                                               &  91                                                                                                                                                                                                                                                                                                                                                             \\\\\n",
       "\t 28004                                                                                                                                                                                                                                                                                                                                                                    & Universidad                                                                                                                                                                                                                                                                                                                                                              & Loft                                                                                                                                                                                                                                                                                                                                                                     & Entire home/apt                                                                                                                                                                                                                                                                                                                                                          & 3                                                                                                                                                                                                                                                                                                                                                                        & 2                                                                                                                                                                                                                                                                                                                                                                        & 1                                                                                                                                                                                                                                                                                                                                                                        & 1                                                                                                                                                                                                                                                                                                                                                                        & Real Bed                                                                                                                                                                                                                                                                                                                                                                 & TV,Internet,Wireless Internet,Air conditioning,Kitchen,Pets allowed,Breakfast,Elevator in building,Indoor fireplace,Buzzer/wireless intercom,Heating,Washer,Essentials,Shampoo,Hangers,Hair dryer,Iron,Laptop friendly workspace,translation missing: en.hosting\\_amenity\\_49,translation missing: en.hosting\\_amenity\\_50                                           &  NA                                                                                                                                                                                                                                                                                                                                                                      & 60                                                                                                                                                                                                                                                                                                                                                                       & 100                                                                                                                                                                                                                                                                                                                                                                     \\\\\n",
       "\t 28015                                                                                                                                                                                                                                                                                                                                                            & Universidad                                                                                                                                                                                                                                                                                                                                                      & Apartment                                                                                                                                                                                                                                                                                                                                                        & Entire home/apt                                                                                                                                                                                                                                                                                                                                                  & 5                                                                                                                                                                                                                                                                                                                                                                & 1                                                                                                                                                                                                                                                                                                                                                                & 1                                                                                                                                                                                                                                                                                                                                                                & 1                                                                                                                                                                                                                                                                                                                                                                & Real Bed                                                                                                                                                                                                                                                                                                                                                         & TV,Wireless Internet,Air conditioning,Kitchen,Smoking allowed,Pets allowed,Elevator in building,Heating,Family/kid friendly,Washer,Essentials,Iron                                                                                                                                                                                                               & 538                                                                                                                                                                                                                                                                                                                                                              & 75                                                                                                                                                                                                                                                                                                                                                               &  90                                                                                                                                                                                                                                                                                                                                                             \\\\\n",
       "\t 28004                                                                                                                                                                                                                                                                                                                                                            & Universidad                                                                                                                                                                                                                                                                                                                                                      & Apartment                                                                                                                                                                                                                                                                                                                                                        & Entire home/apt                                                                                                                                                                                                                                                                                                                                                  & 2                                                                                                                                                                                                                                                                                                                                                                & 1                                                                                                                                                                                                                                                                                                                                                                & 0                                                                                                                                                                                                                                                                                                                                                                & 1                                                                                                                                                                                                                                                                                                                                                                & Real Bed                                                                                                                                                                                                                                                                                                                                                         & TV,Cable TV,Internet,Wireless Internet,Air conditioning,Wheelchair accessible,Kitchen,Doorman,Elevator in building,Buzzer/wireless intercom,Heating,Washer,Smoke detector,Carbon monoxide detector,First aid kit,Safety card,Fire extinguisher,Essentials,Shampoo,24-hour check-in,Hangers,Hair dryer,Iron,Laptop friendly workspace,Self Check-In,Doorman Entry &  NA                                                                                                                                                                                                                                                                                                                                                              & 55                                                                                                                                                                                                                                                                                                                                                               &  95                                                                                                                                                                                                                                                                                                                                                             \\\\\n",
       "\\end{tabular}\n"
      ],
      "text/markdown": [
       "\n",
       "| Zipcode | Neighbourhood.Cleansed | Property.Type | Room.Type | Accommodates | Bathrooms | Bedrooms | Beds | Bed.Type | Amenities | Square.Feet | Price | Review.Scores.Rating |\n",
       "|---|---|---|---|---|---|---|---|---|---|---|---|---|\n",
       "| 28004                                                                                                                                                                                                                                                                                                                                                            | Universidad                                                                                                                                                                                                                                                                                                                                                      | Apartment                                                                                                                                                                                                                                                                                                                                                        | Private room                                                                                                                                                                                                                                                                                                                                                     | 2                                                                                                                                                                                                                                                                                                                                                                | 2                                                                                                                                                                                                                                                                                                                                                                | 1                                                                                                                                                                                                                                                                                                                                                                | 1                                                                                                                                                                                                                                                                                                                                                                | Real Bed                                                                                                                                                                                                                                                                                                                                                         | TV,Wireless Internet,Kitchen,Pets allowed,Pets live on this property,Buzzer/wireless intercom,Heating,Suitable for events,Washer,First aid kit,Essentials,Lock on bedroom door,Iron                                                                                                                                                                              |  NA                                                                                                                                                                                                                                                                                                                                                              | 35                                                                                                                                                                                                                                                                                                                                                               |  NA                                                                                                                                                                                                                                                                                                                                                              |\n",
       "| 28004                                                                                                                                                                                                                                                                                                                                                            | Universidad                                                                                                                                                                                                                                                                                                                                                      | Apartment                                                                                                                                                                                                                                                                                                                                                        | Entire home/apt                                                                                                                                                                                                                                                                                                                                                  | 6                                                                                                                                                                                                                                                                                                                                                                | 1                                                                                                                                                                                                                                                                                                                                                                | 3                                                                                                                                                                                                                                                                                                                                                                | 5                                                                                                                                                                                                                                                                                                                                                                | Real Bed                                                                                                                                                                                                                                                                                                                                                         | TV,Internet,Wireless Internet,Air conditioning,Kitchen,Indoor fireplace,Heating,Family/kid friendly,Washer,Dryer,Smoke detector,Carbon monoxide detector,Essentials,Shampoo                                                                                                                                                                                      |  NA                                                                                                                                                                                                                                                                                                                                                              | 92                                                                                                                                                                                                                                                                                                                                                               |  96                                                                                                                                                                                                                                                                                                                                                              |\n",
       "| 28004                                                                                                                                                                                                                                                                                                                                                            | Universidad                                                                                                                                                                                                                                                                                                                                                      | Apartment                                                                                                                                                                                                                                                                                                                                                        | Entire home/apt                                                                                                                                                                                                                                                                                                                                                  | 3                                                                                                                                                                                                                                                                                                                                                                | 1                                                                                                                                                                                                                                                                                                                                                                | 2                                                                                                                                                                                                                                                                                                                                                                | 2                                                                                                                                                                                                                                                                                                                                                                | Real Bed                                                                                                                                                                                                                                                                                                                                                         | TV,Internet,Wireless Internet,Air conditioning,Kitchen,Doorman,Heating,Family/kid friendly,Washer,Essentials,Shampoo,Hangers,Hair dryer,Iron,Laptop friendly workspace                                                                                                                                                                                           |  NA                                                                                                                                                                                                                                                                                                                                                              | 55                                                                                                                                                                                                                                                                                                                                                               |  91                                                                                                                                                                                                                                                                                                                                                              |\n",
       "| 28004                                                                                                                                                                                                                                                                                                                                                            | Universidad                                                                                                                                                                                                                                                                                                                                                      | Loft                                                                                                                                                                                                                                                                                                                                                             | Entire home/apt                                                                                                                                                                                                                                                                                                                                                  | 3                                                                                                                                                                                                                                                                                                                                                                | 2                                                                                                                                                                                                                                                                                                                                                                | 1                                                                                                                                                                                                                                                                                                                                                                | 1                                                                                                                                                                                                                                                                                                                                                                | Real Bed                                                                                                                                                                                                                                                                                                                                                         | TV,Internet,Wireless Internet,Air conditioning,Kitchen,Pets allowed,Breakfast,Elevator in building,Indoor fireplace,Buzzer/wireless intercom,Heating,Washer,Essentials,Shampoo,Hangers,Hair dryer,Iron,Laptop friendly workspace,translation missing: en.hosting_amenity_49,translation missing: en.hosting_amenity_50                                           |  NA                                                                                                                                                                                                                                                                                                                                                              | 60                                                                                                                                                                                                                                                                                                                                                               | 100                                                                                                                                                                                                                                                                                                                                                              |\n",
       "| 28015                                                                                                                                                                                                                                                                                                                                                            | Universidad                                                                                                                                                                                                                                                                                                                                                      | Apartment                                                                                                                                                                                                                                                                                                                                                        | Entire home/apt                                                                                                                                                                                                                                                                                                                                                  | 5                                                                                                                                                                                                                                                                                                                                                                | 1                                                                                                                                                                                                                                                                                                                                                                | 1                                                                                                                                                                                                                                                                                                                                                                | 1                                                                                                                                                                                                                                                                                                                                                                | Real Bed                                                                                                                                                                                                                                                                                                                                                         | TV,Wireless Internet,Air conditioning,Kitchen,Smoking allowed,Pets allowed,Elevator in building,Heating,Family/kid friendly,Washer,Essentials,Iron                                                                                                                                                                                                               | 538                                                                                                                                                                                                                                                                                                                                                              | 75                                                                                                                                                                                                                                                                                                                                                               |  90                                                                                                                                                                                                                                                                                                                                                              |\n",
       "| 28004                                                                                                                                                                                                                                                                                                                                                            | Universidad                                                                                                                                                                                                                                                                                                                                                      | Apartment                                                                                                                                                                                                                                                                                                                                                        | Entire home/apt                                                                                                                                                                                                                                                                                                                                                  | 2                                                                                                                                                                                                                                                                                                                                                                | 1                                                                                                                                                                                                                                                                                                                                                                | 0                                                                                                                                                                                                                                                                                                                                                                | 1                                                                                                                                                                                                                                                                                                                                                                | Real Bed                                                                                                                                                                                                                                                                                                                                                         | TV,Cable TV,Internet,Wireless Internet,Air conditioning,Wheelchair accessible,Kitchen,Doorman,Elevator in building,Buzzer/wireless intercom,Heating,Washer,Smoke detector,Carbon monoxide detector,First aid kit,Safety card,Fire extinguisher,Essentials,Shampoo,24-hour check-in,Hangers,Hair dryer,Iron,Laptop friendly workspace,Self Check-In,Doorman Entry |  NA                                                                                                                                                                                                                                                                                                                                                              | 55                                                                                                                                                                                                                                                                                                                                                               |  95                                                                                                                                                                                                                                                                                                                                                              |\n",
       "\n"
      ],
      "text/plain": [
       "  Zipcode Neighbourhood.Cleansed Property.Type Room.Type       Accommodates\n",
       "1 28004   Universidad            Apartment     Private room    2           \n",
       "2 28004   Universidad            Apartment     Entire home/apt 6           \n",
       "3 28004   Universidad            Apartment     Entire home/apt 3           \n",
       "4 28004   Universidad            Loft          Entire home/apt 3           \n",
       "5 28015   Universidad            Apartment     Entire home/apt 5           \n",
       "6 28004   Universidad            Apartment     Entire home/apt 2           \n",
       "  Bathrooms Bedrooms Beds Bed.Type\n",
       "1 2         1        1    Real Bed\n",
       "2 1         3        5    Real Bed\n",
       "3 1         2        2    Real Bed\n",
       "4 2         1        1    Real Bed\n",
       "5 1         1        1    Real Bed\n",
       "6 1         0        1    Real Bed\n",
       "  Amenities                                                                                                                                                                                                                                                                                                                                                       \n",
       "1 TV,Wireless Internet,Kitchen,Pets allowed,Pets live on this property,Buzzer/wireless intercom,Heating,Suitable for events,Washer,First aid kit,Essentials,Lock on bedroom door,Iron                                                                                                                                                                             \n",
       "2 TV,Internet,Wireless Internet,Air conditioning,Kitchen,Indoor fireplace,Heating,Family/kid friendly,Washer,Dryer,Smoke detector,Carbon monoxide detector,Essentials,Shampoo                                                                                                                                                                                     \n",
       "3 TV,Internet,Wireless Internet,Air conditioning,Kitchen,Doorman,Heating,Family/kid friendly,Washer,Essentials,Shampoo,Hangers,Hair dryer,Iron,Laptop friendly workspace                                                                                                                                                                                          \n",
       "4 TV,Internet,Wireless Internet,Air conditioning,Kitchen,Pets allowed,Breakfast,Elevator in building,Indoor fireplace,Buzzer/wireless intercom,Heating,Washer,Essentials,Shampoo,Hangers,Hair dryer,Iron,Laptop friendly workspace,translation missing: en.hosting_amenity_49,translation missing: en.hosting_amenity_50                                          \n",
       "5 TV,Wireless Internet,Air conditioning,Kitchen,Smoking allowed,Pets allowed,Elevator in building,Heating,Family/kid friendly,Washer,Essentials,Iron                                                                                                                                                                                                              \n",
       "6 TV,Cable TV,Internet,Wireless Internet,Air conditioning,Wheelchair accessible,Kitchen,Doorman,Elevator in building,Buzzer/wireless intercom,Heating,Washer,Smoke detector,Carbon monoxide detector,First aid kit,Safety card,Fire extinguisher,Essentials,Shampoo,24-hour check-in,Hangers,Hair dryer,Iron,Laptop friendly workspace,Self Check-In,Doorman Entry\n",
       "  Square.Feet Price Review.Scores.Rating\n",
       "1  NA         35     NA                 \n",
       "2  NA         92     96                 \n",
       "3  NA         55     91                 \n",
       "4  NA         60    100                 \n",
       "5 538         75     90                 \n",
       "6  NA         55     95                 "
      ]
     },
     "metadata": {},
     "output_type": "display_data"
    }
   ],
   "source": [
    "head(airbnb)"
   ]
  },
  {
   "cell_type": "markdown",
   "metadata": {},
   "source": [
    "Renombrar las columnas de la siguiente forma:\n",
    "\n",
    "| Nombre original | Nuevo nombre |\n",
    "| - | - |\n",
    "| Zipcode | CodigoPostal |\n",
    "| Neighbourhood.Cleansed | Barrio |\n",
    "| Property.Type\t| TipoPropiedad |\n",
    "| Room.Type | TipoAlquiler |\n",
    "| Accommodates | MaxOcupantes |\n",
    "| Bathrooms\t| NumBanyos |\n",
    "| Bedrooms\t| NumDormitorios |\n",
    "| Beds\t|  NumCamas |\n",
    "| Bed.Type\t| TipoCama |\n",
    "| Amenities | Comodidades |\n",
    "| Square.Feet | PiesCuadrados |\n",
    "| Price\t| Precio |\n",
    "| Review.Scores.Rating | Puntuacion |"
   ]
  },
  {
   "cell_type": "code",
   "execution_count": 4,
   "metadata": {},
   "outputs": [
    {
     "name": "stdout",
     "output_type": "stream",
     "text": [
      "'data.frame':\t13207 obs. of  13 variables:\n",
      " $ CodigoPostal  : Factor w/ 77 levels \"\",\"-\",\"20013\",..: 15 15 15 15 26 15 15 15 26 15 ...\n",
      " $ Barrio        : Factor w/ 125 levels \"Abrantes\",\"Acacias\",..: 115 115 115 115 115 115 115 115 115 115 ...\n",
      " $ TipoPropiedad : Factor w/ 22 levels \"Apartment\",\"Bed & Breakfast\",..: 1 1 1 16 1 1 15 1 1 1 ...\n",
      " $ TipoAlquiler  : Factor w/ 3 levels \"Entire home/apt\",..: 2 1 1 1 1 1 2 1 1 1 ...\n",
      " $ MaxOcupantes  : int  2 6 3 3 5 2 7 3 2 4 ...\n",
      " $ NumBanyos     : num  2 1 1 2 1 1 5 1 1 2 ...\n",
      " $ NumDormitorios: int  1 3 2 1 1 0 1 1 1 2 ...\n",
      " $ NumCamas      : int  1 5 2 1 1 1 7 NA 1 2 ...\n",
      " $ TipoCama      : Factor w/ 5 levels \"Airbed\",\"Couch\",..: 5 5 5 5 5 5 5 5 5 5 ...\n",
      " $ Comodidades   : Factor w/ 11073 levels \"\",\"Air conditioning,Breakfast,Washer,Essentials,Hair dryer\",..: 9444 4020 3249 4039 8369 2047 961 7436 5618 7736 ...\n",
      " $ PiesCuadrados : int  NA NA NA NA 538 NA NA NA 700 NA ...\n",
      " $ Precio        : int  35 92 55 60 75 55 60 70 90 155 ...\n",
      " $ Puntuacion    : int  NA 96 91 100 90 95 77 84 98 NA ...\n"
     ]
    }
   ],
   "source": [
    "names(airbnb) <- c(\"CodigoPostal\", \"Barrio\", \"TipoPropiedad\", \"TipoAlquiler\", \"MaxOcupantes\", \"NumBanyos\", \"NumDormitorios\", \n",
    "                   \"NumCamas\", \"TipoCama\", \"Comodidades\", \"PiesCuadrados\", \"Precio\", \"Puntuacion\")\n",
    "str(airbnb)"
   ]
  },
  {
   "cell_type": "markdown",
   "metadata": {},
   "source": [
    "Crea una nueva columna llamada MetrosCuadrados a partir de la columna PiesCuadrados.\n",
    "\n",
    "Ayuda: 1 pie cuadrado son 0,092903 metros cuadrados"
   ]
  },
  {
   "cell_type": "code",
   "execution_count": 5,
   "metadata": {},
   "outputs": [
    {
     "name": "stdout",
     "output_type": "stream",
     "text": [
      "'data.frame':\t13207 obs. of  14 variables:\n",
      " $ CodigoPostal   : Factor w/ 77 levels \"\",\"-\",\"20013\",..: 15 15 15 15 26 15 15 15 26 15 ...\n",
      " $ Barrio         : Factor w/ 125 levels \"Abrantes\",\"Acacias\",..: 115 115 115 115 115 115 115 115 115 115 ...\n",
      " $ TipoPropiedad  : Factor w/ 22 levels \"Apartment\",\"Bed & Breakfast\",..: 1 1 1 16 1 1 15 1 1 1 ...\n",
      " $ TipoAlquiler   : Factor w/ 3 levels \"Entire home/apt\",..: 2 1 1 1 1 1 2 1 1 1 ...\n",
      " $ MaxOcupantes   : int  2 6 3 3 5 2 7 3 2 4 ...\n",
      " $ NumBanyos      : num  2 1 1 2 1 1 5 1 1 2 ...\n",
      " $ NumDormitorios : int  1 3 2 1 1 0 1 1 1 2 ...\n",
      " $ NumCamas       : int  1 5 2 1 1 1 7 NA 1 2 ...\n",
      " $ TipoCama       : Factor w/ 5 levels \"Airbed\",\"Couch\",..: 5 5 5 5 5 5 5 5 5 5 ...\n",
      " $ Comodidades    : Factor w/ 11073 levels \"\",\"Air conditioning,Breakfast,Washer,Essentials,Hair dryer\",..: 9444 4020 3249 4039 8369 2047 961 7436 5618 7736 ...\n",
      " $ PiesCuadrados  : int  NA NA NA NA 538 NA NA NA 700 NA ...\n",
      " $ Precio         : int  35 92 55 60 75 55 60 70 90 155 ...\n",
      " $ Puntuacion     : int  NA 96 91 100 90 95 77 84 98 NA ...\n",
      " $ MetrosCuadrados: num  NA NA NA NA 50 ...\n"
     ]
    }
   ],
   "source": [
    "airbnb$MetrosCuadrados <- airbnb$PiesCuadrados * 0.092903\n",
    "str(airbnb)"
   ]
  },
  {
   "cell_type": "markdown",
   "metadata": {},
   "source": [
    "Miremos el código postal. Es una variable con entradas erroneas.\n",
    "Hay valores como '', '-'  y '28' que deberían ser considerados como NA.\n",
    "Así mismo también deberían ser NA todos los que no comiencen por 28, ya que estamos con códigos postales de Madrid.\n",
    "\n",
    "El código postal 28002, 28004 y 28051 tienen entradas repetidas. \n",
    "Por ejemplo las entradas 28002\\n20882 deberían ir dentro de 28002.\n",
    "\n",
    "El código 2804 debería ser 28004, 2805 debería ser 28005 y 2815 junto con 2815 deberían ser 28015.\n",
    "\n",
    "Limpia los datos de la columna CodigoPostal."
   ]
  },
  {
   "cell_type": "code",
   "execution_count": 6,
   "metadata": {},
   "outputs": [],
   "source": [
    "airbnb$CodigoPostal[airbnb$CodigoPostal == '-'] <- NA                     # Erróneo\n",
    "airbnb$CodigoPostal[airbnb$CodigoPostal == ''] <- NA                      # Erróneo\n",
    "airbnb$CodigoPostal[airbnb$CodigoPostal == '28'] <- NA                    # Erróneo\n",
    "airbnb$CodigoPostal[airbnb$CodigoPostal == '20013'] <- NA                 # Erróneo\n",
    "airbnb$CodigoPostal[airbnb$CodigoPostal == '20126'] <- NA                 # Erróneo\n",
    "airbnb$CodigoPostal[airbnb$CodigoPostal == '25008'] <- NA                 # Erróneo\n",
    "airbnb$CodigoPostal[airbnb$CodigoPostal == '27004'] <- NA                 # Erróneo\n",
    "airbnb$CodigoPostal[airbnb$CodigoPostal == '27013'] <- NA                 # Erróneo\n",
    "airbnb$CodigoPostal[airbnb$CodigoPostal == '28094'] <- NA                 # No existe\n",
    "airbnb$CodigoPostal[airbnb$CodigoPostal == '28105'] <- NA                 # No existe\n",
    "airbnb$CodigoPostal[airbnb$CodigoPostal == '28850'] <- NA                 # No es Madrid, es Torrejón de Ardoz\n",
    "airbnb$CodigoPostal[airbnb$CodigoPostal == '28002\\n28002'] <- '28002'     # Arreglo la duplicidad\n",
    "airbnb$CodigoPostal[airbnb$CodigoPostal == '28051\\n28051'] <- '28051'     # Arreglo la duplicidad\n",
    "airbnb$CodigoPostal[airbnb$CodigoPostal == 'Madrid 28004'] <- '28004'     # Elimino el literal 'Madrid '\n",
    "airbnb$CodigoPostal[airbnb$CodigoPostal == '2804'] <- '28004'             # Lo asimilo al 28004\n",
    "airbnb$CodigoPostal[airbnb$CodigoPostal == '2805'] <- '28005'             # Lo asimilo al 28005\n",
    "airbnb$CodigoPostal[airbnb$CodigoPostal == '2815'] <- '28015'             # Lo asimilo al 28015\n",
    "airbnb$CodigoPostal[airbnb$CodigoPostal == '2015'] <- '28015'             # Lo asimilo al 28015\n",
    "airbnb$CodigoPostal[airbnb$CodigoPostal == '280013'] <- '28013'           # Lo asimilo al 28013"
   ]
  },
  {
   "cell_type": "markdown",
   "metadata": {},
   "source": [
    "Una vez limpios los datos ¿Cuales son los códigos postales que tenemos? "
   ]
  },
  {
   "cell_type": "code",
   "execution_count": 7,
   "metadata": {},
   "outputs": [
    {
     "data": {
      "text/html": [
       "<dl class=dl-horizontal>\n",
       "\t<dt>28012</dt>\n",
       "\t\t<dd>2060</dd>\n",
       "\t<dt>28004</dt>\n",
       "\t\t<dd>1796</dd>\n",
       "\t<dt>28005</dt>\n",
       "\t\t<dd>1195</dd>\n",
       "\t<dt>28013</dt>\n",
       "\t\t<dd>1020</dd>\n",
       "\t<dt>28014</dt>\n",
       "\t\t<dd>630</dd>\n",
       "\t<dt>28015</dt>\n",
       "\t\t<dd>602</dd>\n",
       "\t<dt>28045</dt>\n",
       "\t\t<dd>495</dd>\n",
       "\t<dt>NA's</dt>\n",
       "\t\t<dd>449</dd>\n",
       "\t<dt>28010</dt>\n",
       "\t\t<dd>384</dd>\n",
       "\t<dt>28008</dt>\n",
       "\t\t<dd>338</dd>\n",
       "\t<dt>28028</dt>\n",
       "\t\t<dd>263</dd>\n",
       "\t<dt>28011</dt>\n",
       "\t\t<dd>250</dd>\n",
       "\t<dt>28001</dt>\n",
       "\t\t<dd>231</dd>\n",
       "\t<dt>28006</dt>\n",
       "\t\t<dd>218</dd>\n",
       "\t<dt>28009</dt>\n",
       "\t\t<dd>216</dd>\n",
       "\t<dt>28007</dt>\n",
       "\t\t<dd>206</dd>\n",
       "\t<dt>28019</dt>\n",
       "\t\t<dd>200</dd>\n",
       "\t<dt>28020</dt>\n",
       "\t\t<dd>192</dd>\n",
       "\t<dt>28003</dt>\n",
       "\t\t<dd>185</dd>\n",
       "\t<dt>28002</dt>\n",
       "\t\t<dd>171</dd>\n",
       "\t<dt>28039</dt>\n",
       "\t\t<dd>160</dd>\n",
       "\t<dt>28025</dt>\n",
       "\t\t<dd>123</dd>\n",
       "\t<dt>28027</dt>\n",
       "\t\t<dd>122</dd>\n",
       "\t<dt>28029</dt>\n",
       "\t\t<dd>110</dd>\n",
       "\t<dt>28017</dt>\n",
       "\t\t<dd>107</dd>\n",
       "\t<dt>28043</dt>\n",
       "\t\t<dd>103</dd>\n",
       "\t<dt>28026</dt>\n",
       "\t\t<dd>93</dd>\n",
       "\t<dt>28042</dt>\n",
       "\t\t<dd>90</dd>\n",
       "\t<dt>28033</dt>\n",
       "\t\t<dd>89</dd>\n",
       "\t<dt>28053</dt>\n",
       "\t\t<dd>85</dd>\n",
       "\t<dt>28038</dt>\n",
       "\t\t<dd>77</dd>\n",
       "\t<dt>28016</dt>\n",
       "\t\t<dd>76</dd>\n",
       "\t<dt>28030</dt>\n",
       "\t\t<dd>73</dd>\n",
       "\t<dt>28036</dt>\n",
       "\t\t<dd>67</dd>\n",
       "\t<dt>28047</dt>\n",
       "\t\t<dd>67</dd>\n",
       "\t<dt>28037</dt>\n",
       "\t\t<dd>65</dd>\n",
       "\t<dt>28041</dt>\n",
       "\t\t<dd>63</dd>\n",
       "\t<dt>28035</dt>\n",
       "\t\t<dd>59</dd>\n",
       "\t<dt>28021</dt>\n",
       "\t\t<dd>58</dd>\n",
       "\t<dt>28050</dt>\n",
       "\t\t<dd>58</dd>\n",
       "\t<dt>28034</dt>\n",
       "\t\t<dd>45</dd>\n",
       "\t<dt>28024</dt>\n",
       "\t\t<dd>44</dd>\n",
       "\t<dt>28018</dt>\n",
       "\t\t<dd>43</dd>\n",
       "\t<dt>28032</dt>\n",
       "\t\t<dd>33</dd>\n",
       "\t<dt>28046</dt>\n",
       "\t\t<dd>32</dd>\n",
       "\t<dt>28022</dt>\n",
       "\t\t<dd>30</dd>\n",
       "\t<dt>28031</dt>\n",
       "\t\t<dd>27</dd>\n",
       "\t<dt>28023</dt>\n",
       "\t\t<dd>23</dd>\n",
       "\t<dt>28044</dt>\n",
       "\t\t<dd>19</dd>\n",
       "\t<dt>28051</dt>\n",
       "\t\t<dd>17</dd>\n",
       "\t<dt>28040</dt>\n",
       "\t\t<dd>16</dd>\n",
       "\t<dt>28054</dt>\n",
       "\t\t<dd>12</dd>\n",
       "\t<dt>28055</dt>\n",
       "\t\t<dd>12</dd>\n",
       "\t<dt>28049</dt>\n",
       "\t\t<dd>3</dd>\n",
       "\t<dt>28048</dt>\n",
       "\t\t<dd>1</dd>\n",
       "\t<dt>28052</dt>\n",
       "\t\t<dd>1</dd>\n",
       "\t<dt>28056</dt>\n",
       "\t\t<dd>1</dd>\n",
       "\t<dt>28058</dt>\n",
       "\t\t<dd>1</dd>\n",
       "\t<dt>28060</dt>\n",
       "\t\t<dd>1</dd>\n",
       "</dl>\n"
      ],
      "text/latex": [
       "\\begin{description*}\n",
       "\\item[28012] 2060\n",
       "\\item[28004] 1796\n",
       "\\item[28005] 1195\n",
       "\\item[28013] 1020\n",
       "\\item[28014] 630\n",
       "\\item[28015] 602\n",
       "\\item[28045] 495\n",
       "\\item[NA's] 449\n",
       "\\item[28010] 384\n",
       "\\item[28008] 338\n",
       "\\item[28028] 263\n",
       "\\item[28011] 250\n",
       "\\item[28001] 231\n",
       "\\item[28006] 218\n",
       "\\item[28009] 216\n",
       "\\item[28007] 206\n",
       "\\item[28019] 200\n",
       "\\item[28020] 192\n",
       "\\item[28003] 185\n",
       "\\item[28002] 171\n",
       "\\item[28039] 160\n",
       "\\item[28025] 123\n",
       "\\item[28027] 122\n",
       "\\item[28029] 110\n",
       "\\item[28017] 107\n",
       "\\item[28043] 103\n",
       "\\item[28026] 93\n",
       "\\item[28042] 90\n",
       "\\item[28033] 89\n",
       "\\item[28053] 85\n",
       "\\item[28038] 77\n",
       "\\item[28016] 76\n",
       "\\item[28030] 73\n",
       "\\item[28036] 67\n",
       "\\item[28047] 67\n",
       "\\item[28037] 65\n",
       "\\item[28041] 63\n",
       "\\item[28035] 59\n",
       "\\item[28021] 58\n",
       "\\item[28050] 58\n",
       "\\item[28034] 45\n",
       "\\item[28024] 44\n",
       "\\item[28018] 43\n",
       "\\item[28032] 33\n",
       "\\item[28046] 32\n",
       "\\item[28022] 30\n",
       "\\item[28031] 27\n",
       "\\item[28023] 23\n",
       "\\item[28044] 19\n",
       "\\item[28051] 17\n",
       "\\item[28040] 16\n",
       "\\item[28054] 12\n",
       "\\item[28055] 12\n",
       "\\item[28049] 3\n",
       "\\item[28048] 1\n",
       "\\item[28052] 1\n",
       "\\item[28056] 1\n",
       "\\item[28058] 1\n",
       "\\item[28060] 1\n",
       "\\end{description*}\n"
      ],
      "text/markdown": [
       "28012\n",
       ":   206028004\n",
       ":   179628005\n",
       ":   119528013\n",
       ":   102028014\n",
       ":   63028015\n",
       ":   60228045\n",
       ":   495NA's\n",
       ":   44928010\n",
       ":   38428008\n",
       ":   33828028\n",
       ":   26328011\n",
       ":   25028001\n",
       ":   23128006\n",
       ":   21828009\n",
       ":   21628007\n",
       ":   20628019\n",
       ":   20028020\n",
       ":   19228003\n",
       ":   18528002\n",
       ":   17128039\n",
       ":   16028025\n",
       ":   12328027\n",
       ":   12228029\n",
       ":   11028017\n",
       ":   10728043\n",
       ":   10328026\n",
       ":   9328042\n",
       ":   9028033\n",
       ":   8928053\n",
       ":   8528038\n",
       ":   7728016\n",
       ":   7628030\n",
       ":   7328036\n",
       ":   6728047\n",
       ":   6728037\n",
       ":   6528041\n",
       ":   6328035\n",
       ":   5928021\n",
       ":   5828050\n",
       ":   5828034\n",
       ":   4528024\n",
       ":   4428018\n",
       ":   4328032\n",
       ":   3328046\n",
       ":   3228022\n",
       ":   3028031\n",
       ":   2728023\n",
       ":   2328044\n",
       ":   1928051\n",
       ":   1728040\n",
       ":   1628054\n",
       ":   1228055\n",
       ":   1228049\n",
       ":   328048\n",
       ":   128052\n",
       ":   128056\n",
       ":   128058\n",
       ":   128060\n",
       ":   1\n",
       "\n"
      ],
      "text/plain": [
       "28012 28004 28005 28013 28014 28015 28045  NA's 28010 28008 28028 28011 28001 \n",
       " 2060  1796  1195  1020   630   602   495   449   384   338   263   250   231 \n",
       "28006 28009 28007 28019 28020 28003 28002 28039 28025 28027 28029 28017 28043 \n",
       "  218   216   206   200   192   185   171   160   123   122   110   107   103 \n",
       "28026 28042 28033 28053 28038 28016 28030 28036 28047 28037 28041 28035 28021 \n",
       "   93    90    89    85    77    76    73    67    67    65    63    59    58 \n",
       "28050 28034 28024 28018 28032 28046 28022 28031 28023 28044 28051 28040 28054 \n",
       "   58    45    44    43    33    32    30    27    23    19    17    16    12 \n",
       "28055 28049 28048 28052 28056 28058 28060 \n",
       "   12     3     1     1     1     1     1 "
      ]
     },
     "metadata": {},
     "output_type": "display_data"
    }
   ],
   "source": [
    "airbnb$CodigoPostal <- droplevels(airbnb$CodigoPostal)     # Elimino los factores erróneos de la columna\n",
    "sort(summary(airbnb$CodigoPostal), decreasing=TRUE)        # Muestro todos los Códigos Postales con sus entradas, por factor"
   ]
  },
  {
   "cell_type": "markdown",
   "metadata": {},
   "source": [
    "¿Cuales son los 5 códigos postales con más entradas? ¿Y con menos? ¿Cuantas entradas tienen?"
   ]
  },
  {
   "cell_type": "markdown",
   "metadata": {},
   "source": [
    "### <font color='red'> Respuesta. </font><br>\n",
    "<font color='gray'> \n",
    "Los 5 códigos postales con más entradas en el DataSet <b>airbnb</b> son:<br>\n",
    "<pre><font color='navy'>28012 con 2.060 entradas.\n",
    "28004 con 1.796 entradas.\n",
    "28005 con 1.195 entradas.\n",
    "28013 con 1.020 entradas.\n",
    "28014 con 630 entradas.</font></pre>\n",
    "Los 5 códigos postales con menos entradas son:<br>\n",
    "<pre><font color='navy'>28048, 28052, 28056, 28058, 28060 --> todos tienen una sola entrada.</font></pre>\n",
    "</font>"
   ]
  },
  {
   "cell_type": "markdown",
   "metadata": {},
   "source": [
    "¿Cuales son los barrios que hay en el código postal 28012?"
   ]
  },
  {
   "cell_type": "code",
   "execution_count": 8,
   "metadata": {},
   "outputs": [
    {
     "data": {
      "text/html": [
       "<table>\n",
       "<thead><tr><th></th><th scope=col>Barrio</th><th scope=col>Freq</th></tr></thead>\n",
       "<tbody>\n",
       "\t<tr><th scope=row>49</th><td>Embajadores    </td><td>1449           </td></tr>\n",
       "\t<tr><th scope=row>112</th><td>Sol            </td><td> 301           </td></tr>\n",
       "\t<tr><th scope=row>41</th><td>Cortes         </td><td> 216           </td></tr>\n",
       "\t<tr><th scope=row>85</th><td>Palos de Moguer</td><td>  46           </td></tr>\n",
       "\t<tr><th scope=row>81</th><td>Palacio        </td><td>  27           </td></tr>\n",
       "\t<tr><th scope=row>2</th><td>Acacias        </td><td>  13           </td></tr>\n",
       "\t<tr><th scope=row>115</th><td>Universidad    </td><td>   4           </td></tr>\n",
       "\t<tr><th scope=row>14</th><td>Arapiles       </td><td>   1           </td></tr>\n",
       "\t<tr><th scope=row>18</th><td>Atocha         </td><td>   1           </td></tr>\n",
       "\t<tr><th scope=row>45</th><td>Delicias       </td><td>   1           </td></tr>\n",
       "\t<tr><th scope=row>56</th><td>Goya           </td><td>   1           </td></tr>\n",
       "</tbody>\n",
       "</table>\n"
      ],
      "text/latex": [
       "\\begin{tabular}{r|ll}\n",
       "  & Barrio & Freq\\\\\n",
       "\\hline\n",
       "\t49 & Embajadores     & 1449           \\\\\n",
       "\t112 & Sol             &  301           \\\\\n",
       "\t41 & Cortes          &  216           \\\\\n",
       "\t85 & Palos de Moguer &   46           \\\\\n",
       "\t81 & Palacio         &   27           \\\\\n",
       "\t2 & Acacias         &   13           \\\\\n",
       "\t115 & Universidad     &    4           \\\\\n",
       "\t14 & Arapiles        &    1           \\\\\n",
       "\t18 & Atocha          &    1           \\\\\n",
       "\t45 & Delicias        &    1           \\\\\n",
       "\t56 & Goya            &    1           \\\\\n",
       "\\end{tabular}\n"
      ],
      "text/markdown": [
       "\n",
       "| <!--/--> | Barrio | Freq |\n",
       "|---|---|---|\n",
       "| 49 | Embajadores     | 1449            |\n",
       "| 112 | Sol             |  301            |\n",
       "| 41 | Cortes          |  216            |\n",
       "| 85 | Palos de Moguer |   46            |\n",
       "| 81 | Palacio         |   27            |\n",
       "| 2 | Acacias         |   13            |\n",
       "| 115 | Universidad     |    4            |\n",
       "| 14 | Arapiles        |    1            |\n",
       "| 18 | Atocha          |    1            |\n",
       "| 45 | Delicias        |    1            |\n",
       "| 56 | Goya            |    1            |\n",
       "\n"
      ],
      "text/plain": [
       "    Barrio          Freq\n",
       "49  Embajadores     1449\n",
       "112 Sol              301\n",
       "41  Cortes           216\n",
       "85  Palos de Moguer   46\n",
       "81  Palacio           27\n",
       "2   Acacias           13\n",
       "115 Universidad        4\n",
       "14  Arapiles           1\n",
       "18  Atocha             1\n",
       "45  Delicias           1\n",
       "56  Goya               1"
      ]
     },
     "metadata": {},
     "output_type": "display_data"
    }
   ],
   "source": [
    "barrios_cp28012 <- data.frame(table(airbnb$Barrio[airbnb$CodigoPostal == 28012]))     # Creo un DF con los barrios del CP 28102\n",
    "colnames(barrios_cp28012) <- c('Barrio', 'Freq')                                      # Doy nombre a sus columnas\n",
    "barrios_cp28012 <- barrios_cp28012[barrios_cp28012$Freq != 0,]                        # Recargo sólo con las filas con entradas \n",
    "barrios_cp28012[order(barrios_cp28012$Freq, decreasing = TRUE),]                      # DF ordenado descendente por entradas"
   ]
  },
  {
   "cell_type": "markdown",
   "metadata": {},
   "source": [
    "¿Cuantas entradas hay en cada uno de esos barrios para el codigo postal 28012? Asumiendo que el identificador de Barrio sea correcto, ¿es fiable la columna de código postal?"
   ]
  },
  {
   "cell_type": "markdown",
   "metadata": {},
   "source": [
    "### <font color='red'> Respuesta. </font><br>\n",
    "\n",
    "<font color='gray'>\n",
    "Visualizando el DataFrame <b>barrios_cp28012</b>, observamos lo siguiente:\n",
    "<pre><font color='navy'>\n",
    "Embajadores con 1.449 entradas      [Las consideramos <b>CORRECTAS</b>]\n",
    "Sol con 301 entradas                [Las consideramos <b>CORRECTAS</b>]\n",
    "Cortes con 216 entradas             [Las consideramos <b>CORRECTAS</b>]\n",
    "Palos de Moguer con 46 entradas     [Las consideramos <b>CORRECTAS</b>]\n",
    "Palacio con 27 entradas             [Las consideramos ERRONEAS]\n",
    "Acacias con 13 entradas             [Las consideramos <b><i>CORRECTAS</i></b> con dudas]\n",
    "Universidad con 4 entradas          [Las consideramos ERRONEAS]\n",
    "Arapiles con 1 entrada              [Las consideramos ERRONEAS]\n",
    "Atocha con 1 entrada                [Las consideramos ERRONEAS]\n",
    "Delicias con 1 entrada              [Las consideramos ERRONEAS]\n",
    "Goya con 1 entrada                  [Las consideramos ERRONEAS]</font></pre>\n",
    "\n",
    "Haciendo zoom en el documento [<b> http://www.madrid.org/iestadis/fijas/estructu/general/territorio/descarga/cpostbarr.pdf </b>] se puede observar que el Código Postal<b> 28012 </b>de Madrid abarca zonas de los barrios de<b> Sol, Cortes, Embajadores, Palos de Moguer </b>y quizá alguna calle del barrio de<b> Acacias</b>.<br><br>\n",
    "Los 4 primeros son los Barrios con mayor número de entradas, en el DataFrame del Código Postal observado, pero (dando por bueno Acacias, con dudas), los barrios de: Palacio, Universidad, Arapiles, Atocha, Delicias y Goya no le pertenecen.<br><br>\n",
    "Tenemos 35 entradas erróneas frente 2.025 correctas.<br><br> El porcentaje de erróneas es del  35 / 2060  =  0,017  [ 1,7% ].<br>\n",
    "<font color='navy'><b>Por tanto, con un 98,3% de correción, yo lo podría considerar un campo fiable.</b></font></font>\n"
   ]
  },
  {
   "cell_type": "markdown",
   "metadata": {},
   "source": [
    "¿Cuantos barrios hay en todo el dataset airbnb? ¿Cuales son?"
   ]
  },
  {
   "cell_type": "code",
   "execution_count": 9,
   "metadata": {},
   "outputs": [
    {
     "name": "stdout",
     "output_type": "stream",
     "text": [
      " Factor w/ 125 levels \"Abrantes\",\"Acacias\",..: 115 115 115 115 115 115 115 115 115 115 ...\n"
     ]
    }
   ],
   "source": [
    "str(airbnb$Barrio)     # Muestro el tipado de la columna Barrio"
   ]
  },
  {
   "cell_type": "markdown",
   "metadata": {},
   "source": [
    "### <font color='red'> Respuesta. </font><br>\n",
    "\n",
    "<font color='gray'>La función <b>str</b> sobre la columna <b>Barrio</b> nos muestra que hay <b>125</b> barrios en el dataset <b>airbnb</b>.<br> Y el <b>summary</b> sobre dicha columna nos da la lista de todos ellos.</font>"
   ]
  },
  {
   "cell_type": "code",
   "execution_count": 10,
   "metadata": {},
   "outputs": [
    {
     "data": {
      "text/html": [
       "<dl class=dl-horizontal>\n",
       "\t<dt>Embajadores</dt>\n",
       "\t\t<dd>1844</dd>\n",
       "\t<dt>Universidad</dt>\n",
       "\t\t<dd>1358</dd>\n",
       "\t<dt>Palacio</dt>\n",
       "\t\t<dd>1083</dd>\n",
       "\t<dt>Sol</dt>\n",
       "\t\t<dd>940</dd>\n",
       "\t<dt>Justicia</dt>\n",
       "\t\t<dd>785</dd>\n",
       "\t<dt>Cortes</dt>\n",
       "\t\t<dd>750</dd>\n",
       "\t<dt>Trafalgar</dt>\n",
       "\t\t<dd>315</dd>\n",
       "\t<dt>Argüelles</dt>\n",
       "\t\t<dd>264</dd>\n",
       "\t<dt>Palos de Moguer</dt>\n",
       "\t\t<dd>262</dd>\n",
       "\t<dt>Goya</dt>\n",
       "\t\t<dd>229</dd>\n",
       "\t<dt>Puerta del Angel</dt>\n",
       "\t\t<dd>199</dd>\n",
       "\t<dt>(Other)</dt>\n",
       "\t\t<dd>192</dd>\n",
       "\t<dt>Guindalera</dt>\n",
       "\t\t<dd>187</dd>\n",
       "\t<dt>Arapiles</dt>\n",
       "\t\t<dd>182</dd>\n",
       "\t<dt>Recoletos</dt>\n",
       "\t\t<dd>172</dd>\n",
       "\t<dt>Almagro</dt>\n",
       "\t\t<dd>155</dd>\n",
       "\t<dt>Acacias</dt>\n",
       "\t\t<dd>145</dd>\n",
       "\t<dt>Gaztambide</dt>\n",
       "\t\t<dd>142</dd>\n",
       "\t<dt>Pacífico</dt>\n",
       "\t\t<dd>138</dd>\n",
       "\t<dt>Lista</dt>\n",
       "\t\t<dd>129</dd>\n",
       "\t<dt>Delicias</dt>\n",
       "\t\t<dd>126</dd>\n",
       "\t<dt>Cuatro Caminos</dt>\n",
       "\t\t<dd>120</dd>\n",
       "\t<dt>Chopera</dt>\n",
       "\t\t<dd>112</dd>\n",
       "\t<dt>Ibiza</dt>\n",
       "\t\t<dd>105</dd>\n",
       "\t<dt>Rios Rosas</dt>\n",
       "\t\t<dd>104</dd>\n",
       "\t<dt>Prosperidad</dt>\n",
       "\t\t<dd>98</dd>\n",
       "\t<dt>Castellana</dt>\n",
       "\t\t<dd>97</dd>\n",
       "\t<dt>Jerónimos</dt>\n",
       "\t\t<dd>90</dd>\n",
       "\t<dt>Imperial</dt>\n",
       "\t\t<dd>89</dd>\n",
       "\t<dt>San Isidro</dt>\n",
       "\t\t<dd>85</dd>\n",
       "\t<dt>Castillejos</dt>\n",
       "\t\t<dd>81</dd>\n",
       "\t<dt>San Diego</dt>\n",
       "\t\t<dd>80</dd>\n",
       "\t<dt>Bellas Vistas</dt>\n",
       "\t\t<dd>79</dd>\n",
       "\t<dt>Ventas</dt>\n",
       "\t\t<dd>78</dd>\n",
       "\t<dt>Casa de Campo</dt>\n",
       "\t\t<dd>75</dd>\n",
       "\t<dt>Vista Alegre</dt>\n",
       "\t\t<dd>74</dd>\n",
       "\t<dt>Hispanoamérica</dt>\n",
       "\t\t<dd>72</dd>\n",
       "\t<dt>Fuente del Berro</dt>\n",
       "\t\t<dd>68</dd>\n",
       "\t<dt>Berruguete</dt>\n",
       "\t\t<dd>67</dd>\n",
       "\t<dt>Almenara</dt>\n",
       "\t\t<dd>62</dd>\n",
       "\t<dt>Lucero</dt>\n",
       "\t\t<dd>62</dd>\n",
       "\t<dt>Nueva España</dt>\n",
       "\t\t<dd>60</dd>\n",
       "\t<dt>Vallehermoso</dt>\n",
       "\t\t<dd>60</dd>\n",
       "\t<dt>Comillas</dt>\n",
       "\t\t<dd>59</dd>\n",
       "\t<dt>Numancia</dt>\n",
       "\t\t<dd>58</dd>\n",
       "\t<dt>Opañel</dt>\n",
       "\t\t<dd>57</dd>\n",
       "\t<dt>Ciudad Jardín</dt>\n",
       "\t\t<dd>55</dd>\n",
       "\t<dt>Valdefuentes</dt>\n",
       "\t\t<dd>55</dd>\n",
       "\t<dt>Adelfas</dt>\n",
       "\t\t<dd>51</dd>\n",
       "\t<dt>Valdeacederas</dt>\n",
       "\t\t<dd>48</dd>\n",
       "\t<dt>Pinar del Rey</dt>\n",
       "\t\t<dd>47</dd>\n",
       "\t<dt>Concepción</dt>\n",
       "\t\t<dd>46</dd>\n",
       "\t<dt>Almendrales</dt>\n",
       "\t\t<dd>45</dd>\n",
       "\t<dt>Aluche</dt>\n",
       "\t\t<dd>45</dd>\n",
       "\t<dt>El Viso</dt>\n",
       "\t\t<dd>45</dd>\n",
       "\t<dt>Quintana</dt>\n",
       "\t\t<dd>45</dd>\n",
       "\t<dt>Simancas</dt>\n",
       "\t\t<dd>45</dd>\n",
       "\t<dt>Valverde</dt>\n",
       "\t\t<dd>45</dd>\n",
       "\t<dt>Canillas</dt>\n",
       "\t\t<dd>42</dd>\n",
       "\t<dt>Pueblo Nuevo</dt>\n",
       "\t\t<dd>41</dd>\n",
       "\t<dt>Casco Histórico de Vallecas</dt>\n",
       "\t\t<dd>40</dd>\n",
       "\t<dt>Peñagrande</dt>\n",
       "\t\t<dd>39</dd>\n",
       "\t<dt>Puerta Bonita</dt>\n",
       "\t\t<dd>38</dd>\n",
       "\t<dt>Legazpi</dt>\n",
       "\t\t<dd>37</dd>\n",
       "\t<dt>Ciudad Universitaria</dt>\n",
       "\t\t<dd>34</dd>\n",
       "\t<dt>Moscardó</dt>\n",
       "\t\t<dd>34</dd>\n",
       "\t<dt>Palomeras Bajas</dt>\n",
       "\t\t<dd>33</dd>\n",
       "\t<dt>Costillares</dt>\n",
       "\t\t<dd>32</dd>\n",
       "\t<dt>San Fermín</dt>\n",
       "\t\t<dd>32</dd>\n",
       "\t<dt>Cármenes</dt>\n",
       "\t\t<dd>30</dd>\n",
       "\t<dt>Casco Histórico de Barajas</dt>\n",
       "\t\t<dd>28</dd>\n",
       "\t<dt>Estrella</dt>\n",
       "\t\t<dd>28</dd>\n",
       "\t<dt>Los Rosales</dt>\n",
       "\t\t<dd>28</dd>\n",
       "\t<dt>Castilla</dt>\n",
       "\t\t<dd>26</dd>\n",
       "\t<dt>Niño Jesús</dt>\n",
       "\t\t<dd>26</dd>\n",
       "\t<dt>Pilar</dt>\n",
       "\t\t<dd>26</dd>\n",
       "\t<dt>San Juan Bautista</dt>\n",
       "\t\t<dd>26</dd>\n",
       "\t<dt>Alameda de Osuna</dt>\n",
       "\t\t<dd>24</dd>\n",
       "\t<dt>Fontarrón</dt>\n",
       "\t\t<dd>24</dd>\n",
       "\t<dt>Buenavista</dt>\n",
       "\t\t<dd>22</dd>\n",
       "\t<dt>Campamento</dt>\n",
       "\t\t<dd>22</dd>\n",
       "\t<dt>San Andrés</dt>\n",
       "\t\t<dd>21</dd>\n",
       "\t<dt>Casco Histórico de Vicálvaro</dt>\n",
       "\t\t<dd>20</dd>\n",
       "\t<dt>Rejas</dt>\n",
       "\t\t<dd>20</dd>\n",
       "\t<dt>Valdezarza</dt>\n",
       "\t\t<dd>20</dd>\n",
       "\t<dt>Portazgo</dt>\n",
       "\t\t<dd>19</dd>\n",
       "\t<dt>Abrantes</dt>\n",
       "\t\t<dd>18</dd>\n",
       "\t<dt>Arcos</dt>\n",
       "\t\t<dd>18</dd>\n",
       "\t<dt>Atocha</dt>\n",
       "\t\t<dd>18</dd>\n",
       "\t<dt>Mirasierra</dt>\n",
       "\t\t<dd>18</dd>\n",
       "\t<dt>San Pascual</dt>\n",
       "\t\t<dd>18</dd>\n",
       "\t<dt>Media Legua</dt>\n",
       "\t\t<dd>17</dd>\n",
       "\t<dt>Vinateros</dt>\n",
       "\t\t<dd>17</dd>\n",
       "\t<dt>Aravaca</dt>\n",
       "\t\t<dd>16</dd>\n",
       "\t<dt>Colina</dt>\n",
       "\t\t<dd>16</dd>\n",
       "\t<dt>La Paz</dt>\n",
       "\t\t<dd>16</dd>\n",
       "\t<dt>Los Angeles</dt>\n",
       "\t\t<dd>16</dd>\n",
       "\t<dt>Timón</dt>\n",
       "\t\t<dd>16</dd>\n",
       "\t<dt>Aguilas</dt>\n",
       "\t\t<dd>15</dd>\n",
       "\t<dt>Apostol Santiago</dt>\n",
       "\t\t<dd>15</dd>\n",
       "</dl>\n"
      ],
      "text/latex": [
       "\\begin{description*}\n",
       "\\item[Embajadores] 1844\n",
       "\\item[Universidad] 1358\n",
       "\\item[Palacio] 1083\n",
       "\\item[Sol] 940\n",
       "\\item[Justicia] 785\n",
       "\\item[Cortes] 750\n",
       "\\item[Trafalgar] 315\n",
       "\\item[Argüelles] 264\n",
       "\\item[Palos de Moguer] 262\n",
       "\\item[Goya] 229\n",
       "\\item[Puerta del Angel] 199\n",
       "\\item[(Other)] 192\n",
       "\\item[Guindalera] 187\n",
       "\\item[Arapiles] 182\n",
       "\\item[Recoletos] 172\n",
       "\\item[Almagro] 155\n",
       "\\item[Acacias] 145\n",
       "\\item[Gaztambide] 142\n",
       "\\item[Pacífico] 138\n",
       "\\item[Lista] 129\n",
       "\\item[Delicias] 126\n",
       "\\item[Cuatro Caminos] 120\n",
       "\\item[Chopera] 112\n",
       "\\item[Ibiza] 105\n",
       "\\item[Rios Rosas] 104\n",
       "\\item[Prosperidad] 98\n",
       "\\item[Castellana] 97\n",
       "\\item[Jerónimos] 90\n",
       "\\item[Imperial] 89\n",
       "\\item[San Isidro] 85\n",
       "\\item[Castillejos] 81\n",
       "\\item[San Diego] 80\n",
       "\\item[Bellas Vistas] 79\n",
       "\\item[Ventas] 78\n",
       "\\item[Casa de Campo] 75\n",
       "\\item[Vista Alegre] 74\n",
       "\\item[Hispanoamérica] 72\n",
       "\\item[Fuente del Berro] 68\n",
       "\\item[Berruguete] 67\n",
       "\\item[Almenara] 62\n",
       "\\item[Lucero] 62\n",
       "\\item[Nueva España] 60\n",
       "\\item[Vallehermoso] 60\n",
       "\\item[Comillas] 59\n",
       "\\item[Numancia] 58\n",
       "\\item[Opañel] 57\n",
       "\\item[Ciudad Jardín] 55\n",
       "\\item[Valdefuentes] 55\n",
       "\\item[Adelfas] 51\n",
       "\\item[Valdeacederas] 48\n",
       "\\item[Pinar del Rey] 47\n",
       "\\item[Concepción] 46\n",
       "\\item[Almendrales] 45\n",
       "\\item[Aluche] 45\n",
       "\\item[El Viso] 45\n",
       "\\item[Quintana] 45\n",
       "\\item[Simancas] 45\n",
       "\\item[Valverde] 45\n",
       "\\item[Canillas] 42\n",
       "\\item[Pueblo Nuevo] 41\n",
       "\\item[Casco Histórico de Vallecas] 40\n",
       "\\item[Peñagrande] 39\n",
       "\\item[Puerta Bonita] 38\n",
       "\\item[Legazpi] 37\n",
       "\\item[Ciudad Universitaria] 34\n",
       "\\item[Moscardó] 34\n",
       "\\item[Palomeras Bajas] 33\n",
       "\\item[Costillares] 32\n",
       "\\item[San Fermín] 32\n",
       "\\item[Cármenes] 30\n",
       "\\item[Casco Histórico de Barajas] 28\n",
       "\\item[Estrella] 28\n",
       "\\item[Los Rosales] 28\n",
       "\\item[Castilla] 26\n",
       "\\item[Niño Jesús] 26\n",
       "\\item[Pilar] 26\n",
       "\\item[San Juan Bautista] 26\n",
       "\\item[Alameda de Osuna] 24\n",
       "\\item[Fontarrón] 24\n",
       "\\item[Buenavista] 22\n",
       "\\item[Campamento] 22\n",
       "\\item[San Andrés] 21\n",
       "\\item[Casco Histórico de Vicálvaro] 20\n",
       "\\item[Rejas] 20\n",
       "\\item[Valdezarza] 20\n",
       "\\item[Portazgo] 19\n",
       "\\item[Abrantes] 18\n",
       "\\item[Arcos] 18\n",
       "\\item[Atocha] 18\n",
       "\\item[Mirasierra] 18\n",
       "\\item[San Pascual] 18\n",
       "\\item[Media Legua] 17\n",
       "\\item[Vinateros] 17\n",
       "\\item[Aravaca] 16\n",
       "\\item[Colina] 16\n",
       "\\item[La Paz] 16\n",
       "\\item[Los Angeles] 16\n",
       "\\item[Timón] 16\n",
       "\\item[Aguilas] 15\n",
       "\\item[Apostol Santiago] 15\n",
       "\\end{description*}\n"
      ],
      "text/markdown": [
       "Embajadores\n",
       ":   1844Universidad\n",
       ":   1358Palacio\n",
       ":   1083Sol\n",
       ":   940Justicia\n",
       ":   785Cortes\n",
       ":   750Trafalgar\n",
       ":   315Argüelles\n",
       ":   264Palos de Moguer\n",
       ":   262Goya\n",
       ":   229Puerta del Angel\n",
       ":   199(Other)\n",
       ":   192Guindalera\n",
       ":   187Arapiles\n",
       ":   182Recoletos\n",
       ":   172Almagro\n",
       ":   155Acacias\n",
       ":   145Gaztambide\n",
       ":   142Pacífico\n",
       ":   138Lista\n",
       ":   129Delicias\n",
       ":   126Cuatro Caminos\n",
       ":   120Chopera\n",
       ":   112Ibiza\n",
       ":   105Rios Rosas\n",
       ":   104Prosperidad\n",
       ":   98Castellana\n",
       ":   97Jerónimos\n",
       ":   90Imperial\n",
       ":   89San Isidro\n",
       ":   85Castillejos\n",
       ":   81San Diego\n",
       ":   80Bellas Vistas\n",
       ":   79Ventas\n",
       ":   78Casa de Campo\n",
       ":   75Vista Alegre\n",
       ":   74Hispanoamérica\n",
       ":   72Fuente del Berro\n",
       ":   68Berruguete\n",
       ":   67Almenara\n",
       ":   62Lucero\n",
       ":   62Nueva España\n",
       ":   60Vallehermoso\n",
       ":   60Comillas\n",
       ":   59Numancia\n",
       ":   58Opañel\n",
       ":   57Ciudad Jardín\n",
       ":   55Valdefuentes\n",
       ":   55Adelfas\n",
       ":   51Valdeacederas\n",
       ":   48Pinar del Rey\n",
       ":   47Concepción\n",
       ":   46Almendrales\n",
       ":   45Aluche\n",
       ":   45El Viso\n",
       ":   45Quintana\n",
       ":   45Simancas\n",
       ":   45Valverde\n",
       ":   45Canillas\n",
       ":   42Pueblo Nuevo\n",
       ":   41Casco Histórico de Vallecas\n",
       ":   40Peñagrande\n",
       ":   39Puerta Bonita\n",
       ":   38Legazpi\n",
       ":   37Ciudad Universitaria\n",
       ":   34Moscardó\n",
       ":   34Palomeras Bajas\n",
       ":   33Costillares\n",
       ":   32San Fermín\n",
       ":   32Cármenes\n",
       ":   30Casco Histórico de Barajas\n",
       ":   28Estrella\n",
       ":   28Los Rosales\n",
       ":   28Castilla\n",
       ":   26Niño Jesús\n",
       ":   26Pilar\n",
       ":   26San Juan Bautista\n",
       ":   26Alameda de Osuna\n",
       ":   24Fontarrón\n",
       ":   24Buenavista\n",
       ":   22Campamento\n",
       ":   22San Andrés\n",
       ":   21Casco Histórico de Vicálvaro\n",
       ":   20Rejas\n",
       ":   20Valdezarza\n",
       ":   20Portazgo\n",
       ":   19Abrantes\n",
       ":   18Arcos\n",
       ":   18Atocha\n",
       ":   18Mirasierra\n",
       ":   18San Pascual\n",
       ":   18Media Legua\n",
       ":   17Vinateros\n",
       ":   17Aravaca\n",
       ":   16Colina\n",
       ":   16La Paz\n",
       ":   16Los Angeles\n",
       ":   16Timón\n",
       ":   16Aguilas\n",
       ":   15Apostol Santiago\n",
       ":   15\n",
       "\n"
      ],
      "text/plain": [
       "                 Embajadores                  Universidad \n",
       "                        1844                         1358 \n",
       "                     Palacio                          Sol \n",
       "                        1083                          940 \n",
       "                    Justicia                       Cortes \n",
       "                         785                          750 \n",
       "                   Trafalgar                    Argüelles \n",
       "                         315                          264 \n",
       "             Palos de Moguer                         Goya \n",
       "                         262                          229 \n",
       "            Puerta del Angel                      (Other) \n",
       "                         199                          192 \n",
       "                  Guindalera                     Arapiles \n",
       "                         187                          182 \n",
       "                   Recoletos                      Almagro \n",
       "                         172                          155 \n",
       "                     Acacias                   Gaztambide \n",
       "                         145                          142 \n",
       "                    Pacífico                        Lista \n",
       "                         138                          129 \n",
       "                    Delicias               Cuatro Caminos \n",
       "                         126                          120 \n",
       "                     Chopera                        Ibiza \n",
       "                         112                          105 \n",
       "                  Rios Rosas                  Prosperidad \n",
       "                         104                           98 \n",
       "                  Castellana                    Jerónimos \n",
       "                          97                           90 \n",
       "                    Imperial                   San Isidro \n",
       "                          89                           85 \n",
       "                 Castillejos                    San Diego \n",
       "                          81                           80 \n",
       "               Bellas Vistas                       Ventas \n",
       "                          79                           78 \n",
       "               Casa de Campo                 Vista Alegre \n",
       "                          75                           74 \n",
       "              Hispanoamérica             Fuente del Berro \n",
       "                          72                           68 \n",
       "                  Berruguete                     Almenara \n",
       "                          67                           62 \n",
       "                      Lucero                 Nueva España \n",
       "                          62                           60 \n",
       "                Vallehermoso                     Comillas \n",
       "                          60                           59 \n",
       "                    Numancia                       Opañel \n",
       "                          58                           57 \n",
       "               Ciudad Jardín                 Valdefuentes \n",
       "                          55                           55 \n",
       "                     Adelfas                Valdeacederas \n",
       "                          51                           48 \n",
       "               Pinar del Rey                   Concepción \n",
       "                          47                           46 \n",
       "                 Almendrales                       Aluche \n",
       "                          45                           45 \n",
       "                     El Viso                     Quintana \n",
       "                          45                           45 \n",
       "                    Simancas                     Valverde \n",
       "                          45                           45 \n",
       "                    Canillas                 Pueblo Nuevo \n",
       "                          42                           41 \n",
       " Casco Histórico de Vallecas                   Peñagrande \n",
       "                          40                           39 \n",
       "               Puerta Bonita                      Legazpi \n",
       "                          38                           37 \n",
       "        Ciudad Universitaria                     Moscardó \n",
       "                          34                           34 \n",
       "             Palomeras Bajas                  Costillares \n",
       "                          33                           32 \n",
       "                  San Fermín                     Cármenes \n",
       "                          32                           30 \n",
       "  Casco Histórico de Barajas                     Estrella \n",
       "                          28                           28 \n",
       "                 Los Rosales                     Castilla \n",
       "                          28                           26 \n",
       "                  Niño Jesús                        Pilar \n",
       "                          26                           26 \n",
       "           San Juan Bautista             Alameda de Osuna \n",
       "                          26                           24 \n",
       "                   Fontarrón                   Buenavista \n",
       "                          24                           22 \n",
       "                  Campamento                   San Andrés \n",
       "                          22                           21 \n",
       "Casco Histórico de Vicálvaro                        Rejas \n",
       "                          20                           20 \n",
       "                  Valdezarza                     Portazgo \n",
       "                          20                           19 \n",
       "                    Abrantes                        Arcos \n",
       "                          18                           18 \n",
       "                      Atocha                   Mirasierra \n",
       "                          18                           18 \n",
       "                 San Pascual                  Media Legua \n",
       "                          18                           17 \n",
       "                   Vinateros                      Aravaca \n",
       "                          17                           16 \n",
       "                      Colina                       La Paz \n",
       "                          16                           16 \n",
       "                 Los Angeles                        Timón \n",
       "                          16                           16 \n",
       "                     Aguilas             Apostol Santiago \n",
       "                          15                           15 "
      ]
     },
     "metadata": {},
     "output_type": "display_data"
    }
   ],
   "source": [
    "sort(summary(airbnb$Barrio), decreasing=TRUE)     # Muestro todos los Barrios con sus entradas, por factor"
   ]
  },
  {
   "cell_type": "markdown",
   "metadata": {},
   "source": [
    "¿Cuales son los 5 barrios que tienen mayor número entradas?"
   ]
  },
  {
   "cell_type": "markdown",
   "metadata": {},
   "source": [
    "### <font color='red'> Respuesta. </font><br>\n",
    "\n",
    "<font color='gray'>Los 5 barrios con mayor número de entradas en el dataset <b>airbnb</b> son:\n",
    "\n",
    "<pre><font color='navy'>Embajadores con 1.844 entradas\n",
    "Universidad con 1.358 entradas\n",
    "Palacio con 1.083 entradas \n",
    "Sol con 940 entradas   \n",
    "Justicia con 785 entradas</font></pre></font>"
   ]
  },
  {
   "cell_type": "markdown",
   "metadata": {},
   "source": [
    "¿Cuantos Tipos de Alquiler diferentes hay? ¿Cuales son? ¿Cuantas entradas en el dataframe hay por cada tipo?"
   ]
  },
  {
   "cell_type": "code",
   "execution_count": 11,
   "metadata": {},
   "outputs": [
    {
     "name": "stdout",
     "output_type": "stream",
     "text": [
      " Factor w/ 3 levels \"Entire home/apt\",..: 2 1 1 1 1 1 2 1 1 1 ...\n"
     ]
    },
    {
     "data": {
      "text/html": [
       "<dl class=dl-horizontal>\n",
       "\t<dt>Entire home/apt</dt>\n",
       "\t\t<dd>7903</dd>\n",
       "\t<dt>Private room</dt>\n",
       "\t\t<dd>5113</dd>\n",
       "\t<dt>Shared room</dt>\n",
       "\t\t<dd>191</dd>\n",
       "</dl>\n"
      ],
      "text/latex": [
       "\\begin{description*}\n",
       "\\item[Entire home/apt] 7903\n",
       "\\item[Private room] 5113\n",
       "\\item[Shared room] 191\n",
       "\\end{description*}\n"
      ],
      "text/markdown": [
       "Entire home/apt\n",
       ":   7903Private room\n",
       ":   5113Shared room\n",
       ":   191\n",
       "\n"
      ],
      "text/plain": [
       "Entire home/apt    Private room     Shared room \n",
       "           7903            5113             191 "
      ]
     },
     "metadata": {},
     "output_type": "display_data"
    }
   ],
   "source": [
    "str(airbnb$TipoAlquiler)\n",
    "sort(summary(airbnb$TipoAlquiler), decreasing=TRUE)     # Muestro todos los Tipos de Alquiler con sus entradas, por factor"
   ]
  },
  {
   "cell_type": "markdown",
   "metadata": {},
   "source": [
    "### <font color='red'> Respuesta. </font><br>\n",
    "\n",
    "<font color='gray'>La función <b>str</b> sobre la columna TipoAlquiler nos dice que hay 3 tipos de alquiler diferentes en el dataset <b>airbnb</b>.<br>\n",
    "Y la función <b>summary</b> sobre dicha columna nos muestra cuales son esos 3 Tipos de Alquiler con su número de entradas correspondiente:\n",
    "<pre><font color='navy'>Entire home/apt con 7.903 entradas\n",
    "Private room con 5.113 entradas\n",
    "Shared room  con 191 entradas</font></pre></font>"
   ]
  },
  {
   "cell_type": "markdown",
   "metadata": {},
   "source": [
    "Muestra el diagrama de cajas del precio para cada uno de los diferentes Tipos de Alquiler"
   ]
  },
  {
   "cell_type": "code",
   "execution_count": 12,
   "metadata": {},
   "outputs": [
    {
     "name": "stderr",
     "output_type": "stream",
     "text": [
      "Warning message:\n",
      "“Removed 9 rows containing non-finite values (stat_boxplot).”"
     ]
    },
    {
     "data": {
      "image/png": "[encoded data removed]",
      "text/plain": [
       "plot without title"
      ]
     },
     "metadata": {},
     "output_type": "display_data"
    }
   ],
   "source": [
    "options(repr.plot.height = 6, repr.plot.width = 8)\n",
    "ggplot(data = airbnb, aes(x = TipoAlquiler, y = Precio, color = TipoAlquiler)) + geom_boxplot()"
   ]
  },
  {
   "cell_type": "markdown",
   "metadata": {},
   "source": [
    "Cual es el precio medio de alquiler de cada uno, la diferencia que hay ¿es estadísticamente significativa?\n",
    "¿Con que test lo comprobarías?"
   ]
  },
  {
   "cell_type": "code",
   "execution_count": 13,
   "metadata": {},
   "outputs": [
    {
     "data": {
      "text/html": [
       "<span style=white-space:pre-wrap>'EH --&gt; 87.3   |  PR --&gt; 34.26   |  SR --&gt; 29.85'</span>"
      ],
      "text/latex": [
       "'EH --> 87.3   \\textbar{}  PR --> 34.26   \\textbar{}  SR --> 29.85'"
      ],
      "text/markdown": [
       "<span style=white-space:pre-wrap>'EH --&gt; 87.3   |  PR --&gt; 34.26   |  SR --&gt; 29.85'</span>"
      ],
      "text/plain": [
       "[1] \"EH --> 87.3   |  PR --> 34.26   |  SR --> 29.85\""
      ]
     },
     "metadata": {},
     "output_type": "display_data"
    }
   ],
   "source": [
    "e <- mean(airbnb$Precio[airbnb$TipoAlquiler == \"Entire home/apt\"], na.rm = TRUE)\n",
    "p <- mean(airbnb$Precio[airbnb$TipoAlquiler == \"Private room\"], na.rm = TRUE)\n",
    "s <- mean(airbnb$Precio[airbnb$TipoAlquiler == \"Shared room\"], na.rm = TRUE)\n",
    "\n",
    "paste(\"EH -->\", round(e, 2), \"  |  PR -->\", round(p, 2), \"  |  SR -->\",round(s, 2))"
   ]
  },
  {
   "cell_type": "markdown",
   "metadata": {},
   "source": [
    "### <font color='red'> Respuesta. </font><br>\n",
    "\n",
    "<font color='gray'>Los precios medios para los Tipos de Alquiler en el dataset <b>airbnb</b> son:\n",
    "<pre><font color='navy'>\n",
    "Entire home/apt --> 87,30 €\n",
    "Private room    --> 34,26 €\n",
    "Shared room     --> 29,85 €</font></pre>\n",
    "\n",
    "Antes de someter los valores a un test específico, debemos comprobar su normalidad con el test <b>Shapiro</b>.<br>\n",
    "Para las dos primeras categorías muestrearemos 5.000 valores (el máximo para poder ejecutar el test Shapiro).</font>"
   ]
  },
  {
   "cell_type": "code",
   "execution_count": 14,
   "metadata": {},
   "outputs": [
    {
     "data": {
      "text/html": [
       "'Test Shapiro sobre los precios del tipo de alquiler:'"
      ],
      "text/latex": [
       "'Test Shapiro sobre los precios del tipo de alquiler:'"
      ],
      "text/markdown": [
       "'Test Shapiro sobre los precios del tipo de alquiler:'"
      ],
      "text/plain": [
       "[1] \"Test Shapiro sobre los precios del tipo de alquiler:\""
      ]
     },
     "metadata": {},
     "output_type": "display_data"
    },
    {
     "data": {
      "text/html": [
       "<span style=white-space:pre-wrap>'     · Entire home/apt --&gt; p-value = 1.75059319058893e-72'</span>"
      ],
      "text/latex": [
       "'     · Entire home/apt --> p-value = 1.75059319058893e-72'"
      ],
      "text/markdown": [
       "<span style=white-space:pre-wrap>'     · Entire home/apt --&gt; p-value = 1.75059319058893e-72'</span>"
      ],
      "text/plain": [
       "[1] \"     · Entire home/apt --> p-value = 1.75059319058893e-72\""
      ]
     },
     "metadata": {},
     "output_type": "display_data"
    },
    {
     "data": {
      "text/html": [
       "<span style=white-space:pre-wrap>'     · Private room --&gt; p-value = 9.8193076477841e-85'</span>"
      ],
      "text/latex": [
       "'     · Private room --> p-value = 9.8193076477841e-85'"
      ],
      "text/markdown": [
       "<span style=white-space:pre-wrap>'     · Private room --&gt; p-value = 9.8193076477841e-85'</span>"
      ],
      "text/plain": [
       "[1] \"     · Private room --> p-value = 9.8193076477841e-85\""
      ]
     },
     "metadata": {},
     "output_type": "display_data"
    },
    {
     "data": {
      "text/html": [
       "<span style=white-space:pre-wrap>'     · Shared room --&gt; p-value = 4.51672121600842e-24'</span>"
      ],
      "text/latex": [
       "'     · Shared room --> p-value = 4.51672121600842e-24'"
      ],
      "text/markdown": [
       "<span style=white-space:pre-wrap>'     · Shared room --&gt; p-value = 4.51672121600842e-24'</span>"
      ],
      "text/plain": [
       "[1] \"     · Shared room --> p-value = 4.51672121600842e-24\""
      ]
     },
     "metadata": {},
     "output_type": "display_data"
    }
   ],
   "source": [
    "Muestra_EH <- sample(airbnb$Precio[airbnb$TipoAlquiler == \"Entire home/apt\"], size = 5000)\n",
    "Muestra_PR <- sample(airbnb$Precio[airbnb$TipoAlquiler == \"Private room\"], size = 5000)\n",
    "Muestra_SR <- airbnb$Precio[airbnb$TipoAlquiler == \"Shared room\"]\n",
    "\n",
    "paste(\"Test Shapiro sobre los precios del tipo de alquiler:\")\n",
    "paste(\"     · Entire home/apt --> p-value =\", shapiro.test(Muestra_EH)[\"p.value\"])\n",
    "paste(\"     · Private room --> p-value =\", shapiro.test(Muestra_PR)[\"p.value\"])\n",
    "paste(\"     · Shared room --> p-value =\", shapiro.test(Muestra_SR)[\"p.value\"])"
   ]
  },
  {
   "cell_type": "markdown",
   "metadata": {},
   "source": [
    "### <font color='red'> Respuesta. </font><br>\n",
    "\n",
    "<font color='gray'>Los test Shapiro determinan que los p-value para las 3 distribuciones de precios por tipos de alquiler están muy por debajo de 5e<sup>-2</sup>, por tanto ninguna parece seguir una distribución gaussiana.<br>\n",
    "Según lo anterior no podemos aplicar un test ANOVA para realizar una comparación de las medias de las tres distribuciones.<br><br>\n",
    "Podríamos aplicar un test de <b>Kruskal-Wallis</b> para distribuciones no normalizadas, pero sólo nos daría el p-value de la peor de las relaciones.<br>\n",
    "Es mejor aplicar un <b>modelo de regresión lineal</b> y para ello generaremos un dataset <b>df_Precios</b> con dos columnas, en la primera tendremos el precio de cada entrada del dataset <b>airbnb</b> y en la segunda un elemento clasificador por tipo de alquiler.</font>"
   ]
  },
  {
   "cell_type": "code",
   "execution_count": 15,
   "metadata": {},
   "outputs": [
    {
     "data": {
      "text/plain": [
       "\n",
       "Call:\n",
       "lm(formula = Precio ~ TipoAlquiler, data = df_Precios)\n",
       "\n",
       "Residuals:\n",
       "   Min     1Q Median     3Q    Max \n",
       "-77.30 -22.30  -9.26   5.74 787.70 \n",
       "\n",
       "Coefficients:\n",
       "               Estimate Std. Error t value Pr(>|t|)    \n",
       "(Intercept)     87.2966     0.5578  156.50   <2e-16 ***\n",
       "TipoAlquilerPR -53.0415     0.8898  -59.61   <2e-16 ***\n",
       "TipoAlquilerSR -57.4432     3.6296  -15.83   <2e-16 ***\n",
       "---\n",
       "Signif. codes:  0 ‘***’ 0.001 ‘**’ 0.01 ‘*’ 0.05 ‘.’ 0.1 ‘ ’ 1\n",
       "\n",
       "Residual standard error: 49.57 on 13195 degrees of freedom\n",
       "  (9 observations deleted due to missingness)\n",
       "Multiple R-squared:  0.2169,\tAdjusted R-squared:  0.2168 \n",
       "F-statistic:  1828 on 2 and 13195 DF,  p-value: < 2.2e-16\n"
      ]
     },
     "metadata": {},
     "output_type": "display_data"
    }
   ],
   "source": [
    "df_EH <- data.frame(Precio = airbnb$Precio[airbnb$TipoAlquiler == \"Entire home/apt\"], TipoAlquiler = \"EH\")\n",
    "df_PR <- data.frame(Precio = airbnb$Precio[airbnb$TipoAlquiler == \"Private room\"], TipoAlquiler = \"PR\")\n",
    "df_SR <- data.frame(Precio = airbnb$Precio[airbnb$TipoAlquiler == \"Shared room\"], TipoAlquiler = \"SR\")\n",
    "df_Precios <- rbind(df_EH, df_PR, df_SR)\n",
    "summary(lm(formula = Precio ~ TipoAlquiler, data = df_Precios))"
   ]
  },
  {
   "cell_type": "markdown",
   "metadata": {},
   "source": [
    "### <font color='red'> Respuesta. </font><br>\n",
    "\n",
    "<font color='gray'>En el modelo de regresión anterior podemos apreciar la exactitud del valor de la media de precios de la distribución del tipo de alquiler <i><b>Entire home/apt</b></i>, que es el punto de intersección del primer grupo: <b>87.30</b>.<br>\n",
    "También podemos ver que las diferencias de las medias de las otras dos distribuciones con respecto a la primera se definen con dos valores muy bajos en el estimador: <b>-53.04</b> y <b>-57.44</b> para <i><b>Private room</b></i> y <i><b>Shared room</b></i> respectivamente.<br>\n",
    "Esos dos valores diferenciadores pueden ser parecidos. Para verlo mejor realizaremos un test de <b>Tukey</b> y así comparar completamente esos precios medios, previniendo de antemano (por los valores tan bajos de los p-value del modelo y sus *** de fiabilidad) que la diferencia entre las medias de las distribuciones va a ser con mucha probabilidad estadísticamente significativa.</font>"
   ]
  },
  {
   "cell_type": "code",
   "execution_count": 16,
   "metadata": {},
   "outputs": [
    {
     "data": {
      "text/plain": [
       "  Tukey multiple comparisons of means\n",
       "    95% family-wise confidence level\n",
       "\n",
       "Fit: aov(formula = Precio ~ TipoAlquiler, data = df_Precios)\n",
       "\n",
       "$TipoAlquiler\n",
       "            diff       lwr        upr     p adj\n",
       "PR-EH -53.041470 -55.12724 -50.955700 0.0000000\n",
       "SR-EH -57.443203 -65.95082 -48.935587 0.0000000\n",
       "SR-PR  -4.401733 -12.96392   4.160453 0.4501858\n"
      ]
     },
     "metadata": {},
     "output_type": "display_data"
    },
    {
     "data": {
      "image/png": "[encoded data removed]",
      "text/plain": [
       "plot without title"
      ]
     },
     "metadata": {},
     "output_type": "display_data"
    }
   ],
   "source": [
    "tky_pta <- TukeyHSD(aov(formula = Precio ~ TipoAlquiler, data = df_Precios))\n",
    "tky_pta\n",
    "sal_tky <- data.frame(tky_pta$TipoAlquiler)\n",
    "ta <- sort(unique(df_Precios$TipoAlquiler))\n",
    "resm <- matrix(NA, length(ta), length(ta))\n",
    "rownames(resm) <- ta\n",
    "colnames(resm) <- ta\n",
    "resm[lower.tri(resm)] <- round(sal_tky$p.adj, 4)\n",
    "resm[upper.tri(resm)] <- t(resm)[upper.tri(resm)]\n",
    "diag(resm) <- 1\n",
    "library(reshape2)\n",
    "dfResm <- melt(resm)\n",
    "options(repr.plot.height = 7, repr.plot.width = 7)\n",
    "ggplot(dfResm, aes(x = Var1, y = Var2, fill = value)) + geom_tile(colour = \"black\") +\n",
    "  geom_text(aes(label = paste(round(value * 100,0), \"%\")), size = 3) + scale_fill_gradient(low = \"white\", high = \"green\") +\n",
    "  ylab(\"Tipo Alquiler\") + xlab(\"Tipo Alquiler\") + theme_bw() +\n",
    "  theme(axis.text.x = element_text(angle = 90, hjust = 1), legend.position = \"none\")"
   ]
  },
  {
   "cell_type": "markdown",
   "metadata": {},
   "source": [
    "### <font color='red'> Respuesta. </font><br>\n",
    "\n",
    "<font color='gray'>El test de <b>Tukey</b> arroja un p-value nulo para las relaciones entre las medias de precios de los tipos de alquiler de <i><b>Entire home/apt</b></i> con cualquier de las otras dos opciones (como ya observamos en el resultado del modelo de regresión lineal), y un valor del 45% para la relación entre los tipos de alquiler <i><b>Private room</b></i> y <i><b>Shared room</b></i>. Nada de esto permite asegurar alguna analogía entre las medias de precios de las distribuciones.<br>Por tanto concluimos que las medias de precios no están relacionadas y por ende, existe una diferencia entre ellas estadísticamente significativa.</font>"
   ]
  },
  {
   "cell_type": "markdown",
   "metadata": {},
   "source": [
    "Filtra el dataframe cuyos tipo de alquiler sea  'Entire home/apt' y guardalo en un dataframe llamado \n",
    "*airbnb_entire*.\n",
    "Estas serán las entradas que tienen un alquiler del piso completo."
   ]
  },
  {
   "cell_type": "code",
   "execution_count": 17,
   "metadata": {},
   "outputs": [
    {
     "name": "stdout",
     "output_type": "stream",
     "text": [
      "'data.frame':\t7903 obs. of  14 variables:\n",
      " $ CodigoPostal   : Factor w/ 58 levels \"28001\",\"28002\",..: 4 4 4 15 4 4 15 4 4 13 ...\n",
      " $ Barrio         : Factor w/ 125 levels \"Abrantes\",\"Acacias\",..: 115 115 115 115 115 115 115 115 115 112 ...\n",
      " $ TipoPropiedad  : Factor w/ 22 levels \"Apartment\",\"Bed & Breakfast\",..: 1 1 16 1 1 1 1 1 1 1 ...\n",
      " $ TipoAlquiler   : Factor w/ 3 levels \"Entire home/apt\",..: 1 1 1 1 1 1 1 1 1 1 ...\n",
      " $ MaxOcupantes   : int  6 3 3 5 2 3 2 4 4 4 ...\n",
      " $ NumBanyos      : num  1 1 2 1 1 1 1 2 1 1 ...\n",
      " $ NumDormitorios : int  3 2 1 1 0 1 1 2 1 1 ...\n",
      " $ NumCamas       : int  5 2 1 1 1 NA 1 2 2 1 ...\n",
      " $ TipoCama       : Factor w/ 5 levels \"Airbed\",\"Couch\",..: 5 5 5 5 5 5 5 5 5 5 ...\n",
      " $ Comodidades    : Factor w/ 11073 levels \"\",\"Air conditioning,Breakfast,Washer,Essentials,Hair dryer\",..: 4020 3249 4039 8369 2047 7436 5618 7736 8582 7255 ...\n",
      " $ PiesCuadrados  : int  NA NA NA 538 NA NA 700 NA 40 646 ...\n",
      " $ Precio         : int  92 55 60 75 55 70 90 155 70 75 ...\n",
      " $ Puntuacion     : int  96 91 100 90 95 84 98 NA 90 91 ...\n",
      " $ MetrosCuadrados: num  NA NA NA 50 NA ...\n"
     ]
    }
   ],
   "source": [
    "airbnb_entire <- airbnb[airbnb$TipoAlquiler == 'Entire home/apt',]\n",
    "str(airbnb_entire)"
   ]
  },
  {
   "cell_type": "markdown",
   "metadata": {},
   "source": [
    "¿Cuales son los 5 barrios que tienen un mayor número de apartamentos enteros en alquiler?\n",
    "Nota: Mirar solo en airbnb_entire"
   ]
  },
  {
   "cell_type": "code",
   "execution_count": 18,
   "metadata": {},
   "outputs": [
    {
     "data": {
      "text/html": [
       "<dl class=dl-horizontal>\n",
       "\t<dt>Embajadores</dt>\n",
       "\t\t<dd>1099</dd>\n",
       "\t<dt>Universidad</dt>\n",
       "\t\t<dd>897</dd>\n",
       "\t<dt>Palacio</dt>\n",
       "\t\t<dd>684</dd>\n",
       "\t<dt>Sol</dt>\n",
       "\t\t<dd>648</dd>\n",
       "\t<dt>Cortes</dt>\n",
       "\t\t<dd>528</dd>\n",
       "</dl>\n"
      ],
      "text/latex": [
       "\\begin{description*}\n",
       "\\item[Embajadores] 1099\n",
       "\\item[Universidad] 897\n",
       "\\item[Palacio] 684\n",
       "\\item[Sol] 648\n",
       "\\item[Cortes] 528\n",
       "\\end{description*}\n"
      ],
      "text/markdown": [
       "Embajadores\n",
       ":   1099Universidad\n",
       ":   897Palacio\n",
       ":   684Sol\n",
       ":   648Cortes\n",
       ":   528\n",
       "\n"
      ],
      "text/plain": [
       "Embajadores Universidad     Palacio         Sol      Cortes \n",
       "       1099         897         684         648         528 "
      ]
     },
     "metadata": {},
     "output_type": "display_data"
    }
   ],
   "source": [
    "airbnb_entire_apartment <- airbnb_entire[(airbnb_entire$TipoPropiedad == 'Apartment'),]\n",
    "head(sort(summary(airbnb_entire_apartment$Barrio), decreasing=TRUE), 5)"
   ]
  },
  {
   "cell_type": "markdown",
   "metadata": {},
   "source": [
    "### <font color='red'> Respuesta. </font><br>\n",
    "\n",
    "<font color='gray'>Los 5 barrios con mayor número de Alquileres Completos de Apartamentos en el dataset <b>airbnb</b> son:\n",
    "\n",
    "<pre><font color='navy'>Embajadores con 1.099 entradas\n",
    "Universidad con 897 entradas\n",
    "Palacio con 684 entradas \n",
    "Sol con 648 entradas   \n",
    "Cortes con 528 entradas</font></pre></font>"
   ]
  },
  {
   "cell_type": "markdown",
   "metadata": {},
   "source": [
    "¿Cuales son los 5 barrios que tienen un mayor precio medio de alquiler para apartamentos enteros?\n",
    "\n",
    "¿Cual es su precio medio?\n",
    "\n",
    "Ayuda: Usa la función aggregate `aggregate(.~colname,df,mean,na.rm=TRUE)`"
   ]
  },
  {
   "cell_type": "code",
   "execution_count": 19,
   "metadata": {},
   "outputs": [
    {
     "data": {
      "text/html": [
       "<table>\n",
       "<thead><tr><th></th><th scope=col>Barrio</th><th scope=col>Precio</th></tr></thead>\n",
       "<tbody>\n",
       "\t<tr><th scope=row>75</th><td>Palomas                   </td><td>459.5000                  </td></tr>\n",
       "\t<tr><th scope=row>48</th><td>Fuentelareina             </td><td>280.0000                  </td></tr>\n",
       "\t<tr><th scope=row>90</th><td>Recoletos                 </td><td>165.5328                  </td></tr>\n",
       "\t<tr><th scope=row>26</th><td>Casco Histórico de Barajas</td><td>157.0000                  </td></tr>\n",
       "\t<tr><th scope=row>29</th><td>Castellana                </td><td>140.6818                  </td></tr>\n",
       "</tbody>\n",
       "</table>\n"
      ],
      "text/latex": [
       "\\begin{tabular}{r|ll}\n",
       "  & Barrio & Precio\\\\\n",
       "\\hline\n",
       "\t75 & Palomas                    & 459.5000                  \\\\\n",
       "\t48 & Fuentelareina              & 280.0000                  \\\\\n",
       "\t90 & Recoletos                  & 165.5328                  \\\\\n",
       "\t26 & Casco Histórico de Barajas & 157.0000                  \\\\\n",
       "\t29 & Castellana                 & 140.6818                  \\\\\n",
       "\\end{tabular}\n"
      ],
      "text/markdown": [
       "\n",
       "| <!--/--> | Barrio | Precio |\n",
       "|---|---|---|\n",
       "| 75 | Palomas                    | 459.5000                   |\n",
       "| 48 | Fuentelareina              | 280.0000                   |\n",
       "| 90 | Recoletos                  | 165.5328                   |\n",
       "| 26 | Casco Histórico de Barajas | 157.0000                   |\n",
       "| 29 | Castellana                 | 140.6818                   |\n",
       "\n"
      ],
      "text/plain": [
       "   Barrio                     Precio  \n",
       "75 Palomas                    459.5000\n",
       "48 Fuentelareina              280.0000\n",
       "90 Recoletos                  165.5328\n",
       "26 Casco Histórico de Barajas 157.0000\n",
       "29 Castellana                 140.6818"
      ]
     },
     "metadata": {},
     "output_type": "display_data"
    }
   ],
   "source": [
    "PM_entire_apartment <- aggregate(Precio ~ Barrio, data = airbnb_entire_apartment, FUN = mean, na.rm = TRUE)\n",
    "head(PM_entire_apartment[order(-PM_entire_apartment$Precio),], 5)"
   ]
  },
  {
   "cell_type": "markdown",
   "metadata": {},
   "source": [
    "### <font color='red'> Respuesta. </font><br>\n",
    "\n",
    "<font color='gray'>Los 5 barrios con mayor precio medio para Alquileres Completos de Apartamentos en el dataset <b>airbnb</b> son:\n",
    "\n",
    "<pre><font color='navy'>Palomas con un precio medio de 459,50€\n",
    "Fuentelareina con un precio medio de 280,00€\n",
    "Recoletos con un precio medio de 165,53€\n",
    "Casco Histórico de Barajas con un precio medio de 157,00€  \n",
    "Castellana con un precio medio de 140,68€</font></pre></font>"
   ]
  },
  {
   "cell_type": "markdown",
   "metadata": {},
   "source": [
    "¿Cuantos apartamentos hay en cada uno de esos barrios?\n",
    "\n",
    "Mostrar un dataframe con el nombre del barrio, el precio y el número de entradas.\n",
    "\n",
    "Ayuda: Podeis crear un nuevo dataframe con las columnas \"Barrio\" y \"Freq\" que contenga el número de entradas en cada barrio y hacer un merge con el dataframe del punto anterior."
   ]
  },
  {
   "cell_type": "code",
   "execution_count": 20,
   "metadata": {},
   "outputs": [
    {
     "data": {
      "text/html": [
       "<table>\n",
       "<thead><tr><th></th><th scope=col>Barrio</th><th scope=col>Precio</th><th scope=col>Freq</th></tr></thead>\n",
       "<tbody>\n",
       "\t<tr><th scope=row>75</th><td>Palomas                   </td><td>459.5000                  </td><td>  2                       </td></tr>\n",
       "\t<tr><th scope=row>48</th><td>Fuentelareina             </td><td>280.0000                  </td><td>  1                       </td></tr>\n",
       "\t<tr><th scope=row>90</th><td>Recoletos                 </td><td>165.5328                  </td><td>122                       </td></tr>\n",
       "\t<tr><th scope=row>26</th><td>Casco Histórico de Barajas</td><td>157.0000                  </td><td>  6                       </td></tr>\n",
       "\t<tr><th scope=row>29</th><td>Castellana                </td><td>140.6818                  </td><td> 66                       </td></tr>\n",
       "</tbody>\n",
       "</table>\n"
      ],
      "text/latex": [
       "\\begin{tabular}{r|lll}\n",
       "  & Barrio & Precio & Freq\\\\\n",
       "\\hline\n",
       "\t75 & Palomas                    & 459.5000                   &   2                       \\\\\n",
       "\t48 & Fuentelareina              & 280.0000                   &   1                       \\\\\n",
       "\t90 & Recoletos                  & 165.5328                   & 122                       \\\\\n",
       "\t26 & Casco Histórico de Barajas & 157.0000                   &   6                       \\\\\n",
       "\t29 & Castellana                 & 140.6818                   &  66                       \\\\\n",
       "\\end{tabular}\n"
      ],
      "text/markdown": [
       "\n",
       "| <!--/--> | Barrio | Precio | Freq |\n",
       "|---|---|---|---|\n",
       "| 75 | Palomas                    | 459.5000                   |   2                        |\n",
       "| 48 | Fuentelareina              | 280.0000                   |   1                        |\n",
       "| 90 | Recoletos                  | 165.5328                   | 122                        |\n",
       "| 26 | Casco Histórico de Barajas | 157.0000                   |   6                        |\n",
       "| 29 | Castellana                 | 140.6818                   |  66                        |\n",
       "\n"
      ],
      "text/plain": [
       "   Barrio                     Precio   Freq\n",
       "75 Palomas                    459.5000   2 \n",
       "48 Fuentelareina              280.0000   1 \n",
       "90 Recoletos                  165.5328 122 \n",
       "26 Casco Histórico de Barajas 157.0000   6 \n",
       "29 Castellana                 140.6818  66 "
      ]
     },
     "metadata": {},
     "output_type": "display_data"
    }
   ],
   "source": [
    "N_entire_apartment <- data.frame(table(airbnb_entire_apartment$Barrio))\n",
    "names(N_entire_apartment) <- c('Barrio', 'Freq')\n",
    "\n",
    "PMF_entire_apartment <- merge(PM_entire_apartment, N_entire_apartment, by = \"Barrio\")\n",
    "head(PMF_entire_apartment[order(-PMF_entire_apartment$Precio),], 5)"
   ]
  },
  {
   "cell_type": "markdown",
   "metadata": {},
   "source": [
    "### <font color='red'> Respuesta. </font><br>\n",
    "\n",
    "<font color='gray'>El número de apartamentos en los 5 barrios con mayor precio medio para Alquileres Completos de Apartamentos en el dataset <b>airbnb</b> son:\n",
    "\n",
    "<pre><font color='navy'>\n",
    "Palomas --> 2 apartamentos\n",
    "Fuentelareina --> 1 apartamento\n",
    "Recoletos --> 122 apartamentos\n",
    "Casco Histórico de Barajas --> 6 apartamentos\n",
    "Castellana --> 66 apartamentos</font></pre></font>"
   ]
  },
  {
   "cell_type": "markdown",
   "metadata": {},
   "source": [
    "Partiendo del dataframe anterior, muestra los 5 barrios con mayor precio, pero que tengan más de 100 entradas de alquiler."
   ]
  },
  {
   "cell_type": "code",
   "execution_count": 21,
   "metadata": {},
   "outputs": [
    {
     "data": {
      "text/html": [
       "<table>\n",
       "<thead><tr><th></th><th scope=col>Barrio</th><th scope=col>Precio</th><th scope=col>Freq</th></tr></thead>\n",
       "<tbody>\n",
       "\t<tr><th scope=row>90</th><td>Recoletos</td><td>165.53279</td><td>122      </td></tr>\n",
       "\t<tr><th scope=row>50</th><td>Goya     </td><td>112.16393</td><td>122      </td></tr>\n",
       "\t<tr><th scope=row>103</th><td>Sol      </td><td>100.99691</td><td>648      </td></tr>\n",
       "\t<tr><th scope=row>57</th><td>Justicia </td><td> 98.82099</td><td>486      </td></tr>\n",
       "\t<tr><th scope=row>105</th><td>Trafalgar</td><td> 94.07389</td><td>203      </td></tr>\n",
       "</tbody>\n",
       "</table>\n"
      ],
      "text/latex": [
       "\\begin{tabular}{r|lll}\n",
       "  & Barrio & Precio & Freq\\\\\n",
       "\\hline\n",
       "\t90 & Recoletos & 165.53279 & 122      \\\\\n",
       "\t50 & Goya      & 112.16393 & 122      \\\\\n",
       "\t103 & Sol       & 100.99691 & 648      \\\\\n",
       "\t57 & Justicia  &  98.82099 & 486      \\\\\n",
       "\t105 & Trafalgar &  94.07389 & 203      \\\\\n",
       "\\end{tabular}\n"
      ],
      "text/markdown": [
       "\n",
       "| <!--/--> | Barrio | Precio | Freq |\n",
       "|---|---|---|---|\n",
       "| 90 | Recoletos | 165.53279 | 122       |\n",
       "| 50 | Goya      | 112.16393 | 122       |\n",
       "| 103 | Sol       | 100.99691 | 648       |\n",
       "| 57 | Justicia  |  98.82099 | 486       |\n",
       "| 105 | Trafalgar |  94.07389 | 203       |\n",
       "\n"
      ],
      "text/plain": [
       "    Barrio    Precio    Freq\n",
       "90  Recoletos 165.53279 122 \n",
       "50  Goya      112.16393 122 \n",
       "103 Sol       100.99691 648 \n",
       "57  Justicia   98.82099 486 \n",
       "105 Trafalgar  94.07389 203 "
      ]
     },
     "metadata": {},
     "output_type": "display_data"
    }
   ],
   "source": [
    "PMF_mas100_EA <- PMF_entire_apartment[(PMF_entire_apartment$Freq > 100),]\n",
    "head(PMF_mas100_EA[order(-PMF_mas100_EA$Precio),], 5)"
   ]
  },
  {
   "cell_type": "markdown",
   "metadata": {},
   "source": [
    "### <font color='red'> Respuesta. </font><br>\n",
    "\n",
    "<font color='gray'>Los 5 barrios con mayor precio medio, y más de 100 entradas de alquiler, para Alquileres Completos de Apartamentos en el dataset <b>airbnb</b> son:\n",
    "\n",
    "<pre><font color='navy'>\n",
    "Recoletos --> 122 apartamentos con un precio medio de 165.53€\n",
    "Goya --> 122 apartamentos con un precio medio de 112.16€\n",
    "Sol --> 648 apartamentos con un precio medio de 101€\n",
    "Justicia --> 486 apartamentos con un precio medio de 98.82€\n",
    "Trafalgar --> 203 apartamentos con un precio medio de 94.07€</font></pre></font>"
   ]
  },
  {
   "cell_type": "markdown",
   "metadata": {},
   "source": [
    "Dibuja el diagrama de densidad de distribución de los diferentes precios"
   ]
  },
  {
   "cell_type": "markdown",
   "metadata": {},
   "source": [
    "### <font color='red'> Respuesta. </font><br>\n",
    "\n",
    "<font color='gray'>Construimos un nuevo dataset, partiendo de <b>airbnb_entire_apartment</b> (que contiene todos los apartamentos con tipo de alquiler completo), eligiendo solamente las filas de los 5 barrios con mayor precio medio y mas de 100 entradas en el dataset <b>airbnb</b>. Seleccionamos únicamente las columnas de <i><b>Barrio</b></i>, <i><b>Precio</b></i> y <i><b>MetrosCuadrados</b></i></font>"
   ]
  },
  {
   "cell_type": "code",
   "execution_count": 22,
   "metadata": {},
   "outputs": [
    {
     "data": {
      "text/plain": [
       "       Barrio        Precio      MetrosCuadrados \n",
       " Sol      :648   Min.   : 25.0   Min.   :  0.00  \n",
       " Justicia :486   1st Qu.: 65.0   1st Qu.:  0.00  \n",
       " Trafalgar:203   Median : 85.0   Median : 27.50  \n",
       " Goya     :122   Mean   :105.3   Mean   : 40.36  \n",
       " Recoletos:122   3rd Qu.:120.0   3rd Qu.: 68.49  \n",
       " Abrantes :  0   Max.   :600.0   Max.   :200.02  \n",
       " (Other)  :  0                   NA's   :1497    "
      ]
     },
     "metadata": {},
     "output_type": "display_data"
    }
   ],
   "source": [
    "airbnb_entire_apartment_5b <- airbnb_entire_apartment[(airbnb_entire_apartment$Barrio == \"Recoletos\" |\n",
    "                                                       airbnb_entire_apartment$Barrio == \"Goya\" |\n",
    "                                                       airbnb_entire_apartment$Barrio == \"Sol\" |\n",
    "                                                       airbnb_entire_apartment$Barrio == \"Justicia\" |\n",
    "                                                       airbnb_entire_apartment$Barrio == \"Trafalgar\"),\n",
    "                                                      c(\"Barrio\", \"Precio\", \"MetrosCuadrados\")]\n",
    "summary(airbnb_entire_apartment_5b)"
   ]
  },
  {
   "cell_type": "markdown",
   "metadata": {},
   "source": [
    "### <font color='red'> Respuesta. </font><br>\n",
    "\n",
    "<font color='gray'>Con este grupo de datos pintamos una línea de densidad de Precios para cada barrio.</font>"
   ]
  },
  {
   "cell_type": "code",
   "execution_count": 23,
   "metadata": {},
   "outputs": [
    {
     "data": {
      "image/png": "[encoded data removed]",
      "text/plain": [
       "plot without title"
      ]
     },
     "metadata": {},
     "output_type": "display_data"
    }
   ],
   "source": [
    "options(repr.plot.height = 6, repr.plot.width = 8)\n",
    "ggplot(airbnb_entire_apartment_5b, aes(Precio, color = Barrio)) + geom_density() + xlab(\"Precio\") + ylab(\"Densidad\")"
   ]
  },
  {
   "cell_type": "markdown",
   "metadata": {},
   "source": [
    "Calcula el tamaño medio, en metros cuadrados, para los 5 barrios anteriores y muestralo en el mismo dataframe junto con el precio y número de entradas"
   ]
  },
  {
   "cell_type": "code",
   "execution_count": 24,
   "metadata": {},
   "outputs": [
    {
     "data": {
      "text/html": [
       "<table>\n",
       "<thead><tr><th></th><th scope=col>Barrio</th><th scope=col>Precio</th><th scope=col>Freq</th><th scope=col>MetrosCuadrados</th></tr></thead>\n",
       "<tbody>\n",
       "\t<tr><th scope=row>8</th><td>Recoletos</td><td>165.53279</td><td>122      </td><td>26.66316 </td></tr>\n",
       "\t<tr><th scope=row>4</th><td>Goya     </td><td>112.16393</td><td>122      </td><td>51.68504 </td></tr>\n",
       "\t<tr><th scope=row>9</th><td>Sol      </td><td>100.99691</td><td>648      </td><td>44.81810 </td></tr>\n",
       "\t<tr><th scope=row>5</th><td>Justicia </td><td> 98.82099</td><td>486      </td><td>30.30960 </td></tr>\n",
       "\t<tr><th scope=row>10</th><td>Trafalgar</td><td> 94.07389</td><td>203      </td><td>29.30426 </td></tr>\n",
       "</tbody>\n",
       "</table>\n"
      ],
      "text/latex": [
       "\\begin{tabular}{r|llll}\n",
       "  & Barrio & Precio & Freq & MetrosCuadrados\\\\\n",
       "\\hline\n",
       "\t8 & Recoletos & 165.53279 & 122       & 26.66316 \\\\\n",
       "\t4 & Goya      & 112.16393 & 122       & 51.68504 \\\\\n",
       "\t9 & Sol       & 100.99691 & 648       & 44.81810 \\\\\n",
       "\t5 & Justicia  &  98.82099 & 486       & 30.30960 \\\\\n",
       "\t10 & Trafalgar &  94.07389 & 203       & 29.30426 \\\\\n",
       "\\end{tabular}\n"
      ],
      "text/markdown": [
       "\n",
       "| <!--/--> | Barrio | Precio | Freq | MetrosCuadrados |\n",
       "|---|---|---|---|---|\n",
       "| 8 | Recoletos | 165.53279 | 122       | 26.66316  |\n",
       "| 4 | Goya      | 112.16393 | 122       | 51.68504  |\n",
       "| 9 | Sol       | 100.99691 | 648       | 44.81810  |\n",
       "| 5 | Justicia  |  98.82099 | 486       | 30.30960  |\n",
       "| 10 | Trafalgar |  94.07389 | 203       | 29.30426  |\n",
       "\n"
      ],
      "text/plain": [
       "   Barrio    Precio    Freq MetrosCuadrados\n",
       "8  Recoletos 165.53279 122  26.66316       \n",
       "4  Goya      112.16393 122  51.68504       \n",
       "9  Sol       100.99691 648  44.81810       \n",
       "5  Justicia   98.82099 486  30.30960       \n",
       "10 Trafalgar  94.07389 203  29.30426       "
      ]
     },
     "metadata": {},
     "output_type": "display_data"
    }
   ],
   "source": [
    "M2_EA <- aggregate(MetrosCuadrados ~ Barrio, data = airbnb_entire_apartment, FUN = mean, na.rm = TRUE)\n",
    "PMFM2_mas100_EA <- merge(PMF_mas100_EA, M2_EA, by = \"Barrio\")\n",
    "head(PMFM2_mas100_EA[order(-PMFM2_mas100_EA$Precio),], 5)"
   ]
  },
  {
   "cell_type": "markdown",
   "metadata": {},
   "source": [
    "Dibuja el diagrama de densidad de distribución de los diferentes tamaños de apartamentos"
   ]
  },
  {
   "cell_type": "markdown",
   "metadata": {},
   "source": [
    "### <font color='red'> Respuesta. </font><br>\n",
    "\n",
    "<font color='gray'>Utilizando el grupo de datos contenido en el dataset <b>airbnb_entire_apartment_5b</b>, pintamos una línea de densidad de Tamaños (en m<sup>2</sup>) para cada barrio.</font>"
   ]
  },
  {
   "cell_type": "code",
   "execution_count": 25,
   "metadata": {},
   "outputs": [
    {
     "name": "stderr",
     "output_type": "stream",
     "text": [
      "Warning message:\n",
      "“Removed 1497 rows containing non-finite values (stat_density).”"
     ]
    },
    {
     "data": {
      "image/png": "[encoded data removed]",
      "text/plain": [
       "plot without title"
      ]
     },
     "metadata": {},
     "output_type": "display_data"
    }
   ],
   "source": [
    "ggplot(airbnb_entire_apartment_5b, aes(MetrosCuadrados, color = Barrio)) + geom_density() + \n",
    "       xlab(\"Tamaño (en m2)\") + ylab(\"Densidad\")"
   ]
  },
  {
   "cell_type": "markdown",
   "metadata": {},
   "source": [
    "Esta claro que las medias de cada uno de estos 5 barrios parecen ser diferentes, pero ¿son estadísticamente diferentes?\n",
    "¿Que test habría que usar para comprobarlo?"
   ]
  },
  {
   "cell_type": "markdown",
   "metadata": {},
   "source": [
    "### <font color='red'> Respuesta. </font><br>\n",
    "\n",
    "<font color='gray'>Comprobaremos primero la normalidad de las distribuciones de tamaño con el test Shapiro.</font>"
   ]
  },
  {
   "cell_type": "code",
   "execution_count": 26,
   "metadata": {},
   "outputs": [
    {
     "data": {
      "text/html": [
       "'Test Shapiro sobre la distribución de tamaños de apartamentos en alquiler completo en el barrio de:'"
      ],
      "text/latex": [
       "'Test Shapiro sobre la distribución de tamaños de apartamentos en alquiler completo en el barrio de:'"
      ],
      "text/markdown": [
       "'Test Shapiro sobre la distribución de tamaños de apartamentos en alquiler completo en el barrio de:'"
      ],
      "text/plain": [
       "[1] \"Test Shapiro sobre la distribución de tamaños de apartamentos en alquiler completo en el barrio de:\""
      ]
     },
     "metadata": {},
     "output_type": "display_data"
    },
    {
     "data": {
      "text/html": [
       "<span style=white-space:pre-wrap>'     · Recoletos --&gt; p-value = 0.0917366476132396'</span>"
      ],
      "text/latex": [
       "'     · Recoletos --> p-value = 0.0917366476132396'"
      ],
      "text/markdown": [
       "<span style=white-space:pre-wrap>'     · Recoletos --&gt; p-value = 0.0917366476132396'</span>"
      ],
      "text/plain": [
       "[1] \"     · Recoletos --> p-value = 0.0917366476132396\""
      ]
     },
     "metadata": {},
     "output_type": "display_data"
    },
    {
     "data": {
      "text/html": [
       "<span style=white-space:pre-wrap>'     · Goya --&gt; p-value = 0.160826056567461'</span>"
      ],
      "text/latex": [
       "'     · Goya --> p-value = 0.160826056567461'"
      ],
      "text/markdown": [
       "<span style=white-space:pre-wrap>'     · Goya --&gt; p-value = 0.160826056567461'</span>"
      ],
      "text/plain": [
       "[1] \"     · Goya --> p-value = 0.160826056567461\""
      ]
     },
     "metadata": {},
     "output_type": "display_data"
    },
    {
     "data": {
      "text/html": [
       "<span style=white-space:pre-wrap>'     · Sol --&gt; p-value = 0.000629707187799713'</span>"
      ],
      "text/latex": [
       "'     · Sol --> p-value = 0.000629707187799713'"
      ],
      "text/markdown": [
       "<span style=white-space:pre-wrap>'     · Sol --&gt; p-value = 0.000629707187799713'</span>"
      ],
      "text/plain": [
       "[1] \"     · Sol --> p-value = 0.000629707187799713\""
      ]
     },
     "metadata": {},
     "output_type": "display_data"
    },
    {
     "data": {
      "text/html": [
       "<span style=white-space:pre-wrap>'     · Justicia --&gt; p-value = 0.0126703046189013'</span>"
      ],
      "text/latex": [
       "'     · Justicia --> p-value = 0.0126703046189013'"
      ],
      "text/markdown": [
       "<span style=white-space:pre-wrap>'     · Justicia --&gt; p-value = 0.0126703046189013'</span>"
      ],
      "text/plain": [
       "[1] \"     · Justicia --> p-value = 0.0126703046189013\""
      ]
     },
     "metadata": {},
     "output_type": "display_data"
    },
    {
     "data": {
      "text/html": [
       "<span style=white-space:pre-wrap>'     · Trafalgar --&gt; p-value = 0.0771611339051921'</span>"
      ],
      "text/latex": [
       "'     · Trafalgar --> p-value = 0.0771611339051921'"
      ],
      "text/markdown": [
       "<span style=white-space:pre-wrap>'     · Trafalgar --&gt; p-value = 0.0771611339051921'</span>"
      ],
      "text/plain": [
       "[1] \"     · Trafalgar --> p-value = 0.0771611339051921\""
      ]
     },
     "metadata": {},
     "output_type": "display_data"
    }
   ],
   "source": [
    "Recoletos_m2 <- airbnb_entire_apartment$MetrosCuadrados[airbnb$Barrio == \"Recoletos\"]\n",
    "Goya_m2 <- airbnb_entire_apartment$MetrosCuadrados[airbnb$Barrio == \"Goya\"]\n",
    "Sol_m2 <- airbnb_entire_apartment$MetrosCuadrados[airbnb$Barrio == \"Sol\"]\n",
    "Justicia_m2 <- airbnb_entire_apartment$MetrosCuadrados[airbnb$Barrio == \"Justicia\"]\n",
    "Trafalgar_m2 <- airbnb_entire_apartment$MetrosCuadrados[airbnb$Barrio == \"Trafalgar\"]\n",
    "\n",
    "paste(\"Test Shapiro sobre la distribución de tamaños de apartamentos en alquiler completo en el barrio de:\")\n",
    "paste(\"     · Recoletos --> p-value =\", shapiro.test(Recoletos_m2)[\"p.value\"])\n",
    "paste(\"     · Goya --> p-value =\", shapiro.test(Goya_m2)[\"p.value\"])\n",
    "paste(\"     · Sol --> p-value =\", shapiro.test(Sol_m2)[\"p.value\"])\n",
    "paste(\"     · Justicia --> p-value =\", shapiro.test(Justicia_m2)[\"p.value\"])\n",
    "paste(\"     · Trafalgar --> p-value =\", shapiro.test(Trafalgar_m2)[\"p.value\"])"
   ]
  },
  {
   "cell_type": "markdown",
   "metadata": {},
   "source": [
    "### <font color='red'> Respuesta. </font><br>\n",
    "\n",
    "<font color='gray'>Los 5 test Shapiro para las distribuciones de tamaño en metros<sup>2</sup> de apartamentos completos de estos cinco barrios determinan valores de p-value por debajo de 5e<sup>-2</sup> en <b>Sol</b> y en <b>Justicia</b> y valores de p-value por encima de 5e<sup>-2</sup> en los otros tres barrios, por tanto no todas estas distribuciones siguen una gaussiana.<br><br>\n",
    "Según lo anterior no deberíamos aplicar un test ANOVA para realizar una comparación de las medias de las cinco distribuciones.<br>\n",
    "Podríamos aplicarlo sobre las 3 que siguen una distribución normal: <b>Recoletos</b>, <b>Goya</b> y <b>Trafalgar</b>, pero vemos mejor ejecutar un <b>modelo de regresión lineal</b> y para ello generaremos un dataset <b>df_m2</b> con dos columnas, en la primera tendremos el tamaño en metros<sup>2</sup> de cada entrada del dataset <b>airbnb_entire_apartment</b> y en la segunda un elemento clasificador por barrio.</font>"
   ]
  },
  {
   "cell_type": "code",
   "execution_count": 27,
   "metadata": {},
   "outputs": [
    {
     "data": {
      "text/plain": [
       "       m2               Barrio   \n",
       " Min.   :  0.00   Recoletos:172  \n",
       " 1st Qu.:  0.00   Goya     :229  \n",
       " Median : 40.04   Sol      :940  \n",
       " Mean   : 43.24   Justicia :785  \n",
       " 3rd Qu.: 69.96   Trafalgar:315  \n",
       " Max.   :200.02                  \n",
       " NA's   :2362                    "
      ]
     },
     "metadata": {},
     "output_type": "display_data"
    },
    {
     "data": {
      "text/plain": [
       "\n",
       "Call:\n",
       "lm(formula = m2 ~ Barrio, data = df_m2)\n",
       "\n",
       "Residuals:\n",
       "    Min      1Q  Median      3Q     Max \n",
       "-58.197 -34.515  -4.507  26.155 141.824 \n",
       "\n",
       "Coefficients:\n",
       "                Estimate Std. Error t value Pr(>|t|)   \n",
       "(Intercept)       52.583     19.280   2.727  0.00797 **\n",
       "BarrioGoya       -16.165     31.484  -0.513  0.60918   \n",
       "BarrioSol        -18.068     20.611  -0.877  0.38353   \n",
       "BarrioJusticia     5.613     21.053   0.267  0.79049   \n",
       "BarrioTrafalgar  -20.309     23.613  -0.860  0.39254   \n",
       "---\n",
       "Signif. codes:  0 ‘***’ 0.001 ‘**’ 0.01 ‘*’ 0.05 ‘.’ 0.1 ‘ ’ 1\n",
       "\n",
       "Residual standard error: 43.11 on 74 degrees of freedom\n",
       "  (2362 observations deleted due to missingness)\n",
       "Multiple R-squared:  0.06941,\tAdjusted R-squared:  0.01911 \n",
       "F-statistic:  1.38 on 4 and 74 DF,  p-value: 0.2491\n"
      ]
     },
     "metadata": {},
     "output_type": "display_data"
    }
   ],
   "source": [
    "df_Recoletos <- data.frame(m2 = airbnb_entire_apartment$MetrosCuadrados[airbnb$Barrio == \"Recoletos\"], Barrio = \"Recoletos\")\n",
    "df_Goya <- data.frame(m2 = airbnb_entire_apartment$MetrosCuadrados[airbnb$Barrio == \"Goya\"], Barrio = \"Goya\")\n",
    "df_Sol <- data.frame(m2 = airbnb_entire_apartment$MetrosCuadrados[airbnb$Barrio == \"Sol\"], Barrio = \"Sol\")\n",
    "df_Justicia <- data.frame(m2 = airbnb_entire_apartment$MetrosCuadrados[airbnb$Barrio == \"Justicia\"], Barrio = \"Justicia\")\n",
    "df_Trafalgar <- data.frame(m2 = airbnb_entire_apartment$MetrosCuadrados[airbnb$Barrio == \"Trafalgar\"], Barrio = \"Trafalgar\")\n",
    "df_m2 <- rbind(df_Recoletos, df_Goya, df_Sol, df_Justicia, df_Trafalgar)\n",
    "\n",
    "summary(df_m2)\n",
    "summary(lm(formula = m2 ~ Barrio, data = df_m2))"
   ]
  },
  {
   "cell_type": "markdown",
   "metadata": {},
   "source": [
    "### <font color='red'> Respuesta. </font><br>\n",
    "\n",
    "<font color='gray'>El modelo de regresión anterior resulta poco clarificador ya que sus estimaciones no vienen marcadas con un nivel de fiabilidad aceptable (de al menos *).<br>Vamos a realizar un test de <b>Tukey</b> para comparar esos tamaños medios.</font>"
   ]
  },
  {
   "cell_type": "code",
   "execution_count": 28,
   "metadata": {},
   "outputs": [
    {
     "data": {
      "text/plain": [
       "  Tukey multiple comparisons of means\n",
       "    95% family-wise confidence level\n",
       "\n",
       "Fit: aov(formula = m2 ~ Barrio, data = df_m2)\n",
       "\n",
       "$Barrio\n",
       "                          diff         lwr      upr     p adj\n",
       "Goya-Recoletos      -16.165122 -104.201138 71.87089 0.9857746\n",
       "Sol-Recoletos       -18.068306  -75.701408 39.56479 0.9046012\n",
       "Justicia-Recoletos    5.613485  -53.253282 64.48025 0.9988641\n",
       "Trafalgar-Recoletos -20.308596  -86.335608 45.71842 0.9104376\n",
       "Sol-Goya             -1.903184  -74.423246 70.61688 0.9999933\n",
       "Justicia-Goya        21.778607  -51.725688 95.28290 0.9209647\n",
       "Trafalgar-Goya       -4.143474  -83.498067 75.21112 0.9998954\n",
       "Justicia-Sol         23.681791   -7.529033 54.89262 0.2219946\n",
       "Trafalgar-Sol        -2.240289  -45.465115 40.98454 0.9998984\n",
       "Trafalgar-Justicia  -25.922081  -70.778603 18.93444 0.4921902\n"
      ]
     },
     "metadata": {},
     "output_type": "display_data"
    },
    {
     "data": {
      "image/png": "[encoded data removed]",
      "text/plain": [
       "plot without title"
      ]
     },
     "metadata": {},
     "output_type": "display_data"
    }
   ],
   "source": [
    "tky_m2b <- TukeyHSD(aov(formula = m2 ~ Barrio, data = df_m2))\n",
    "tky_m2b\n",
    "sal_tky2 <- data.frame(tky_m2b$Barrio)\n",
    "ba <- sort(unique(df_m2$Barrio))\n",
    "resm2 <- matrix(NA, length(ba), length(ba))\n",
    "rownames(resm2) <- ba\n",
    "colnames(resm2) <- ba\n",
    "resm2[lower.tri(resm2)] <- round(sal_tky2$p.adj, 4)\n",
    "resm2[upper.tri(resm2)] <- t(resm2)[upper.tri(resm2)]\n",
    "diag(resm2) <- 1\n",
    "dfResm2 <- melt(resm2)\n",
    "options(repr.plot.height = 6, repr.plot.width = 7)\n",
    "ggplot(dfResm2, aes(x = Var1, y = Var2, fill = value)) + geom_tile(colour = \"black\") +\n",
    "  geom_text(aes(label = paste(round(value * 100,0), \"%\")), size = 3) +\n",
    "  scale_fill_gradient(low = \"white\", high = \"yellow\") + ylab(\"Barrio\") + xlab(\"Barrio\") + theme_bw() +\n",
    "  theme(axis.text.x = element_text(angle = 90, hjust = 1), legend.position = \"none\")"
   ]
  },
  {
   "cell_type": "markdown",
   "metadata": {},
   "source": [
    "### <font color='red'> Respuesta. </font><br>\n",
    "\n",
    "<font color='gray'>El test de Tukey arroja valores p-value por encima del 90% para todas las relaciones entre las medias de tamaño en metros cuadrados de los apartamentos de los diferentes barrios, excepto en dos casos:<br>\n",
    "<pre><font color='navy'>La relación entre los barrios de Sol y Justicia (22%)\n",
    "La relación entre los barrios de Trafalgar y Justicia (49%)</font></pre>\n",
    "De esto deducimos que las distribuciones de tamaños de los apartamentos en los 4 barrios de: Recoletos, Goya, Sol y Trafalgar tienen unos valores medios análogos y que el único barrio que sólo cumple la analogía con Recoletos y Goya, y que por tanto tiene una diferencia estadísticamente significativa con Sol y Trafalgar, es el de Justicia.</font>"
   ]
  },
  {
   "cell_type": "markdown",
   "metadata": {},
   "source": [
    "Para únicamente los pisos de alquiler en el barrio de Sol:\n",
    "\n",
    "``barrio_sol<-subset(airbnb_entire,Barrio==\"Sol\")``\n",
    "\n",
    "Calcular un modelo lineal que combine alguna de estas variables:\n",
    "* NumBanyos\n",
    "* NumDormitorios\n",
    "* MaxOcupantes\n",
    "* MetrosCuadrados"
   ]
  },
  {
   "cell_type": "markdown",
   "metadata": {},
   "source": [
    "### <font color='red'> Respuesta. </font><br>\n",
    "\n",
    "<font color='gray'>Ejecutamos un modelo lineal sobre las variables <b>NumDormitorios</b> y <b>MetrosCuadrados</b>.</font>"
   ]
  },
  {
   "cell_type": "code",
   "execution_count": 29,
   "metadata": {},
   "outputs": [
    {
     "data": {
      "text/plain": [
       "\n",
       "Call:\n",
       "lm(formula = MetrosCuadrados ~ NumDormitorios, data = barrio_sol)\n",
       "\n",
       "Residuals:\n",
       "     Min       1Q   Median       3Q      Max \n",
       "-108.089  -32.109    7.428   27.906  117.258 \n",
       "\n",
       "Coefficients:\n",
       "               Estimate Std. Error t value Pr(>|t|)    \n",
       "(Intercept)       6.783      9.258   0.733    0.467    \n",
       "NumDormitorios   25.327      4.813   5.262 2.16e-06 ***\n",
       "---\n",
       "Signif. codes:  0 ‘***’ 0.001 ‘**’ 0.01 ‘*’ 0.05 ‘.’ 0.1 ‘ ’ 1\n",
       "\n",
       "Residual standard error: 43.3 on 58 degrees of freedom\n",
       "  (641 observations deleted due to missingness)\n",
       "Multiple R-squared:  0.3231,\tAdjusted R-squared:  0.3115 \n",
       "F-statistic: 27.69 on 1 and 58 DF,  p-value: 2.158e-06\n"
      ]
     },
     "metadata": {},
     "output_type": "display_data"
    },
    {
     "data": {
      "text/html": [
       "<table>\n",
       "<thead><tr><th></th><th scope=col>2.5 %</th><th scope=col>97.5 %</th></tr></thead>\n",
       "<tbody>\n",
       "\t<tr><th scope=row>(Intercept)</th><td>-11.74911</td><td>25.31486 </td></tr>\n",
       "\t<tr><th scope=row>NumDormitorios</th><td> 15.69223</td><td>34.96087 </td></tr>\n",
       "</tbody>\n",
       "</table>\n"
      ],
      "text/latex": [
       "\\begin{tabular}{r|ll}\n",
       "  & 2.5 \\% & 97.5 \\%\\\\\n",
       "\\hline\n",
       "\t(Intercept) & -11.74911 & 25.31486 \\\\\n",
       "\tNumDormitorios &  15.69223 & 34.96087 \\\\\n",
       "\\end{tabular}\n"
      ],
      "text/markdown": [
       "\n",
       "| <!--/--> | 2.5 % | 97.5 % |\n",
       "|---|---|---|\n",
       "| (Intercept) | -11.74911 | 25.31486  |\n",
       "| NumDormitorios |  15.69223 | 34.96087  |\n",
       "\n"
      ],
      "text/plain": [
       "               2.5 %     97.5 %  \n",
       "(Intercept)    -11.74911 25.31486\n",
       "NumDormitorios  15.69223 34.96087"
      ]
     },
     "metadata": {},
     "output_type": "display_data"
    }
   ],
   "source": [
    "barrio_sol <- subset(airbnb_entire, Barrio == \"Sol\")\n",
    "model <- lm(data = barrio_sol, formula = MetrosCuadrados ~ NumDormitorios)\n",
    "summary(model)\n",
    "confint(model)"
   ]
  },
  {
   "cell_type": "code",
   "execution_count": 30,
   "metadata": {},
   "outputs": [
    {
     "name": "stderr",
     "output_type": "stream",
     "text": [
      "Warning message:\n",
      "“Removed 643 rows containing non-finite values (stat_smooth).”Warning message:\n",
      "“Removed 643 rows containing missing values (geom_point).”"
     ]
    },
    {
     "data": {
      "image/png": "[encoded data removed]",
      "text/plain": [
       "plot without title"
      ]
     },
     "metadata": {},
     "output_type": "display_data"
    }
   ],
   "source": [
    "ggplot(barrio_sol, aes(x = MetrosCuadrados, y = NumDormitorios)) + \n",
    "       geom_point() + xlim(0, 165) + ylim(0, 5) + \n",
    "       geom_smooth(method=\"lm\")"
   ]
  },
  {
   "cell_type": "markdown",
   "metadata": {},
   "source": [
    "### <font color='red'> Respuesta. </font><br>\n",
    "\n",
    "<font color='gray'>El modelo lineal, sobre las variables de número de dormitorios y el tamaño en metros cuadrados en los pisos del barrio de Sol, descubre una proporcionalidad creciente entre estas variables con un p-value muy bajo que permite establecer una relación fuerte entre ellas.<br>\n",
    "    En la gráfica se aprecian muchos valores nulos de tamaño (0 m<sup>2</sup>).</font>"
   ]
  },
  {
   "cell_type": "markdown",
   "metadata": {},
   "source": [
    "Primero calculamos la correlación para ver como se relacionan estas variables entre sí."
   ]
  },
  {
   "cell_type": "code",
   "execution_count": 31,
   "metadata": {},
   "outputs": [
    {
     "data": {
      "text/html": [
       "'La matriz de correlación de las 5 variables es:'"
      ],
      "text/latex": [
       "'La matriz de correlación de las 5 variables es:'"
      ],
      "text/markdown": [
       "'La matriz de correlación de las 5 variables es:'"
      ],
      "text/plain": [
       "[1] \"La matriz de correlación de las 5 variables es:\""
      ]
     },
     "metadata": {},
     "output_type": "display_data"
    },
    {
     "data": {
      "text/html": [
       "<table>\n",
       "<thead><tr><th></th><th scope=col>NumBanyos</th><th scope=col>NumDormitorios</th><th scope=col>MaxOcupantes</th><th scope=col>MetrosCuadrados</th><th scope=col>Precio</th></tr></thead>\n",
       "<tbody>\n",
       "\t<tr><th scope=row>NumBanyos</th><td>1.0000000</td><td>0.6873719</td><td>0.7017290</td><td>0.4820549</td><td>0.5975571</td></tr>\n",
       "\t<tr><th scope=row>NumDormitorios</th><td>0.6873719</td><td>1.0000000</td><td>0.7853809</td><td>0.5684521</td><td>0.7160551</td></tr>\n",
       "\t<tr><th scope=row>MaxOcupantes</th><td>0.7017290</td><td>0.7853809</td><td>1.0000000</td><td>0.4286233</td><td>0.5269961</td></tr>\n",
       "\t<tr><th scope=row>MetrosCuadrados</th><td>0.4820549</td><td>0.5684521</td><td>0.4286233</td><td>1.0000000</td><td>0.6381754</td></tr>\n",
       "\t<tr><th scope=row>Precio</th><td>0.5975571</td><td>0.7160551</td><td>0.5269961</td><td>0.6381754</td><td>1.0000000</td></tr>\n",
       "</tbody>\n",
       "</table>\n"
      ],
      "text/latex": [
       "\\begin{tabular}{r|lllll}\n",
       "  & NumBanyos & NumDormitorios & MaxOcupantes & MetrosCuadrados & Precio\\\\\n",
       "\\hline\n",
       "\tNumBanyos & 1.0000000 & 0.6873719 & 0.7017290 & 0.4820549 & 0.5975571\\\\\n",
       "\tNumDormitorios & 0.6873719 & 1.0000000 & 0.7853809 & 0.5684521 & 0.7160551\\\\\n",
       "\tMaxOcupantes & 0.7017290 & 0.7853809 & 1.0000000 & 0.4286233 & 0.5269961\\\\\n",
       "\tMetrosCuadrados & 0.4820549 & 0.5684521 & 0.4286233 & 1.0000000 & 0.6381754\\\\\n",
       "\tPrecio & 0.5975571 & 0.7160551 & 0.5269961 & 0.6381754 & 1.0000000\\\\\n",
       "\\end{tabular}\n"
      ],
      "text/markdown": [
       "\n",
       "| <!--/--> | NumBanyos | NumDormitorios | MaxOcupantes | MetrosCuadrados | Precio |\n",
       "|---|---|---|---|---|---|\n",
       "| NumBanyos | 1.0000000 | 0.6873719 | 0.7017290 | 0.4820549 | 0.5975571 |\n",
       "| NumDormitorios | 0.6873719 | 1.0000000 | 0.7853809 | 0.5684521 | 0.7160551 |\n",
       "| MaxOcupantes | 0.7017290 | 0.7853809 | 1.0000000 | 0.4286233 | 0.5269961 |\n",
       "| MetrosCuadrados | 0.4820549 | 0.5684521 | 0.4286233 | 1.0000000 | 0.6381754 |\n",
       "| Precio | 0.5975571 | 0.7160551 | 0.5269961 | 0.6381754 | 1.0000000 |\n",
       "\n"
      ],
      "text/plain": [
       "                NumBanyos NumDormitorios MaxOcupantes MetrosCuadrados Precio   \n",
       "NumBanyos       1.0000000 0.6873719      0.7017290    0.4820549       0.5975571\n",
       "NumDormitorios  0.6873719 1.0000000      0.7853809    0.5684521       0.7160551\n",
       "MaxOcupantes    0.7017290 0.7853809      1.0000000    0.4286233       0.5269961\n",
       "MetrosCuadrados 0.4820549 0.5684521      0.4286233    1.0000000       0.6381754\n",
       "Precio          0.5975571 0.7160551      0.5269961    0.6381754       1.0000000"
      ]
     },
     "metadata": {},
     "output_type": "display_data"
    }
   ],
   "source": [
    "barrio_sol5var <- barrio_sol[, c(\"NumBanyos\",\"NumDormitorios\",\"MaxOcupantes\",\"MetrosCuadrados\", \"Precio\")]\n",
    "paste(\"La matriz de correlación de las 5 variables es:\")\n",
    "cor(barrio_sol5var[1:ncol(barrio_sol5var)], use=\"complete.obs\")"
   ]
  },
  {
   "cell_type": "markdown",
   "metadata": {},
   "source": [
    "Se observa que la correlación entre el número de dormitorios y los metros cuadrados es sorprendentemente baja.\n",
    "¿Son de fiar esos números?\n",
    "\n",
    "Mediante un histograma o curvas de densidad podemos descartar números que no tienen sentido en el dataframe barrio_sol,\n",
    "para tener una matriz de correlación que tenga mayor sentido.\n"
   ]
  },
  {
   "cell_type": "code",
   "execution_count": 32,
   "metadata": {},
   "outputs": [
    {
     "data": {
      "text/plain": [
       "   NumBanyos     NumDormitorios    MaxOcupantes    MetrosCuadrados \n",
       " Min.   :1.000   Min.   : 0.000   Min.   : 1.000   Min.   :  0.00  \n",
       " 1st Qu.:1.000   1st Qu.: 1.000   1st Qu.: 4.000   1st Qu.:  0.00  \n",
       " Median :1.000   Median : 1.000   Median : 4.000   Median : 37.49  \n",
       " Mean   :1.272   Mean   : 1.444   Mean   : 4.642   Mean   : 45.62  \n",
       " 3rd Qu.:1.500   3rd Qu.: 2.000   3rd Qu.: 6.000   3rd Qu.: 69.96  \n",
       " Max.   :6.000   Max.   :10.000   Max.   :16.000   Max.   :200.02  \n",
       "                                                   NA's   :641     \n",
       "     Precio     \n",
       " Min.   : 35.0  \n",
       " 1st Qu.: 70.0  \n",
       " Median : 89.0  \n",
       " Mean   :100.8  \n",
       " 3rd Qu.:119.0  \n",
       " Max.   :550.0  \n",
       "                "
      ]
     },
     "metadata": {},
     "output_type": "display_data"
    },
    {
     "name": "stdout",
     "output_type": "stream",
     "text": [
      "'data.frame':\t701 obs. of  5 variables:\n",
      " $ NumBanyos      : num  1 1 1 1 1 1 2 1 1 1 ...\n",
      " $ NumDormitorios : int  1 2 1 2 1 1 4 2 1 1 ...\n",
      " $ MaxOcupantes   : int  4 6 4 6 4 4 10 6 4 4 ...\n",
      " $ MetrosCuadrados: num  60 NA NA NA NA ...\n",
      " $ Precio         : int  75 130 100 160 49 70 210 120 50 100 ...\n"
     ]
    }
   ],
   "source": [
    "summary(barrio_sol5var)\n",
    "str(barrio_sol5var)"
   ]
  },
  {
   "cell_type": "markdown",
   "metadata": {},
   "source": [
    "### <font color='red'> Respuesta. </font><br>\n",
    "\n",
    "<font color='gray'><font color='gray'>En la gráfica del modelo de regresión lineal realizado más arriba, observábamos muchos valores superpuestos al eje y. Esto quiere decir que hay muchos valores nulos (0, NA, null) en la columna MetrosCuadrados del dataset.<br>\n",
    "El comando <b>str</b> sobre el dataframe <b>barrio_sol5var</b> indica claramente que tiene 701 filas de las cuales, según la función <b>summary</b>, 641 tienen un valor NA en la columna MetrosCuadrados.<br>\n",
    "Esta es la causa de que la correlación entre los MetrosCuadrados y cualquiera otra de las variables no nos dé ninguna confianza.</font>"
   ]
  },
  {
   "cell_type": "markdown",
   "metadata": {},
   "source": [
    "Una vez que hayamos filtrado los datos correspondientes calcular el valor o la combinación de valores que mejor nos permite obtener el precio de un inmueble."
   ]
  },
  {
   "cell_type": "code",
   "execution_count": 33,
   "metadata": {},
   "outputs": [
    {
     "data": {
      "text/plain": [
       "   NumBanyos     NumDormitorios  MaxOcupantes    MetrosCuadrados  \n",
       " Min.   :1.000   Min.   :0.0    Min.   : 2.000   Min.   :  4.181  \n",
       " 1st Qu.:1.000   1st Qu.:1.0    1st Qu.: 3.000   1st Qu.: 37.742  \n",
       " Median :1.000   Median :1.0    Median : 4.000   Median : 60.015  \n",
       " Mean   :1.375   Mean   :1.6    Mean   : 4.925   Mean   : 68.425  \n",
       " 3rd Qu.:2.000   3rd Qu.:2.0    3rd Qu.: 6.000   3rd Qu.: 85.749  \n",
       " Max.   :4.000   Max.   :5.0    Max.   :12.000   Max.   :200.020  \n",
       "     Precio      \n",
       " Min.   : 45.00  \n",
       " 1st Qu.: 70.75  \n",
       " Median : 83.50  \n",
       " Mean   :103.65  \n",
       " 3rd Qu.:103.50  \n",
       " Max.   :300.00  "
      ]
     },
     "metadata": {},
     "output_type": "display_data"
    },
    {
     "name": "stdout",
     "output_type": "stream",
     "text": [
      "'data.frame':\t40 obs. of  5 variables:\n",
      " $ NumBanyos      : num  1 1 1 2 1 2 1 1 1 1 ...\n",
      " $ NumDormitorios : int  1 1 1 4 1 2 1 1 0 1 ...\n",
      " $ MaxOcupantes   : int  4 4 2 8 4 10 4 2 3 2 ...\n",
      " $ MetrosCuadrados: num  60 70 25 200 50 ...\n",
      " $ Precio         : int  75 100 65 250 108 98 70 77 45 82 ...\n"
     ]
    },
    {
     "data": {
      "text/html": [
       "'La nueva matriz de correlación de las 5 variables es:'"
      ],
      "text/latex": [
       "'La nueva matriz de correlación de las 5 variables es:'"
      ],
      "text/markdown": [
       "'La nueva matriz de correlación de las 5 variables es:'"
      ],
      "text/plain": [
       "[1] \"La nueva matriz de correlación de las 5 variables es:\""
      ]
     },
     "metadata": {},
     "output_type": "display_data"
    },
    {
     "data": {
      "text/html": [
       "<table>\n",
       "<thead><tr><th></th><th scope=col>NumBanyos</th><th scope=col>NumDormitorios</th><th scope=col>MaxOcupantes</th><th scope=col>MetrosCuadrados</th><th scope=col>Precio</th></tr></thead>\n",
       "<tbody>\n",
       "\t<tr><th scope=row>NumBanyos</th><td>1.0000000</td><td>0.7356920</td><td>0.8528252</td><td>0.5712130</td><td>0.6620249</td></tr>\n",
       "\t<tr><th scope=row>NumDormitorios</th><td>0.7356920</td><td>1.0000000</td><td>0.7841590</td><td>0.7717458</td><td>0.8590378</td></tr>\n",
       "\t<tr><th scope=row>MaxOcupantes</th><td>0.8528252</td><td>0.7841590</td><td>1.0000000</td><td>0.7108265</td><td>0.7291838</td></tr>\n",
       "\t<tr><th scope=row>MetrosCuadrados</th><td>0.5712130</td><td>0.7717458</td><td>0.7108265</td><td>1.0000000</td><td>0.7402007</td></tr>\n",
       "\t<tr><th scope=row>Precio</th><td>0.6620249</td><td>0.8590378</td><td>0.7291838</td><td>0.7402007</td><td>1.0000000</td></tr>\n",
       "</tbody>\n",
       "</table>\n"
      ],
      "text/latex": [
       "\\begin{tabular}{r|lllll}\n",
       "  & NumBanyos & NumDormitorios & MaxOcupantes & MetrosCuadrados & Precio\\\\\n",
       "\\hline\n",
       "\tNumBanyos & 1.0000000 & 0.7356920 & 0.8528252 & 0.5712130 & 0.6620249\\\\\n",
       "\tNumDormitorios & 0.7356920 & 1.0000000 & 0.7841590 & 0.7717458 & 0.8590378\\\\\n",
       "\tMaxOcupantes & 0.8528252 & 0.7841590 & 1.0000000 & 0.7108265 & 0.7291838\\\\\n",
       "\tMetrosCuadrados & 0.5712130 & 0.7717458 & 0.7108265 & 1.0000000 & 0.7402007\\\\\n",
       "\tPrecio & 0.6620249 & 0.8590378 & 0.7291838 & 0.7402007 & 1.0000000\\\\\n",
       "\\end{tabular}\n"
      ],
      "text/markdown": [
       "\n",
       "| <!--/--> | NumBanyos | NumDormitorios | MaxOcupantes | MetrosCuadrados | Precio |\n",
       "|---|---|---|---|---|---|\n",
       "| NumBanyos | 1.0000000 | 0.7356920 | 0.8528252 | 0.5712130 | 0.6620249 |\n",
       "| NumDormitorios | 0.7356920 | 1.0000000 | 0.7841590 | 0.7717458 | 0.8590378 |\n",
       "| MaxOcupantes | 0.8528252 | 0.7841590 | 1.0000000 | 0.7108265 | 0.7291838 |\n",
       "| MetrosCuadrados | 0.5712130 | 0.7717458 | 0.7108265 | 1.0000000 | 0.7402007 |\n",
       "| Precio | 0.6620249 | 0.8590378 | 0.7291838 | 0.7402007 | 1.0000000 |\n",
       "\n"
      ],
      "text/plain": [
       "                NumBanyos NumDormitorios MaxOcupantes MetrosCuadrados Precio   \n",
       "NumBanyos       1.0000000 0.7356920      0.8528252    0.5712130       0.6620249\n",
       "NumDormitorios  0.7356920 1.0000000      0.7841590    0.7717458       0.8590378\n",
       "MaxOcupantes    0.8528252 0.7841590      1.0000000    0.7108265       0.7291838\n",
       "MetrosCuadrados 0.5712130 0.7717458      0.7108265    1.0000000       0.7402007\n",
       "Precio          0.6620249 0.8590378      0.7291838    0.7402007       1.0000000"
      ]
     },
     "metadata": {},
     "output_type": "display_data"
    }
   ],
   "source": [
    "barrio_sol5var$MetrosCuadrados[is.na(barrio_sol5var$MetrosCuadrados)] <- 999999\n",
    "barrio_sol5var <- barrio_sol5var[(barrio_sol5var$MetrosCuadrados != 999999 & barrio_sol5var$MetrosCuadrados != 0),]\n",
    "summary(barrio_sol5var)\n",
    "str(barrio_sol5var)\n",
    "paste(\"La nueva matriz de correlación de las 5 variables es:\")\n",
    "cor(barrio_sol5var[1:ncol(barrio_sol5var)], use=\"complete.obs\")"
   ]
  },
  {
   "cell_type": "markdown",
   "metadata": {},
   "source": [
    "### <font color='red'> Respuesta. </font><br>\n",
    "\n",
    "<font color='gray'>Filtramos el subconjunto eliminando las filas que en la columna MetrosCuadrados tienen un valor 0 (lo cual no tiene sentido) o la tienen desinformada (con un valor NA).<br>\n",
    "Nos queda un subconjunto de 40 entradas (todas ellas informadas en todas sus columnas).</font>"
   ]
  },
  {
   "cell_type": "markdown",
   "metadata": {},
   "source": [
    "¿Que variable es más fiable para conocer el precio de un inmueble, el número de habitaciones o los metros cuadrados?"
   ]
  },
  {
   "cell_type": "code",
   "execution_count": 34,
   "metadata": {},
   "outputs": [
    {
     "data": {
      "text/plain": [
       "\n",
       "Call:\n",
       "lm(formula = Precio ~ NumBanyos, data = barrio_sol5var)\n",
       "\n",
       "Residuals:\n",
       "    Min      1Q  Median      3Q     Max \n",
       "-90.974 -19.979  -7.729  11.490 163.148 \n",
       "\n",
       "Coefficients:\n",
       "            Estimate Std. Error t value Pr(>|t|)    \n",
       "(Intercept)   30.606     15.035   2.036   0.0488 *  \n",
       "NumBanyos     53.123      9.756   5.445 3.28e-06 ***\n",
       "---\n",
       "Signif. codes:  0 ‘***’ 0.001 ‘**’ 0.01 ‘*’ 0.05 ‘.’ 0.1 ‘ ’ 1\n",
       "\n",
       "Residual standard error: 42.94 on 38 degrees of freedom\n",
       "Multiple R-squared:  0.4383,\tAdjusted R-squared:  0.4235 \n",
       "F-statistic: 29.65 on 1 and 38 DF,  p-value: 3.283e-06\n"
      ]
     },
     "metadata": {},
     "output_type": "display_data"
    },
    {
     "data": {
      "text/plain": [
       "\n",
       "Call:\n",
       "lm(formula = Precio ~ NumDormitorios, data = barrio_sol5var)\n",
       "\n",
       "Residuals:\n",
       "    Min      1Q  Median      3Q     Max \n",
       "-88.277 -15.644  -4.069  19.931  62.723 \n",
       "\n",
       "Coefficients:\n",
       "               Estimate Std. Error t value Pr(>|t|)    \n",
       "(Intercept)      40.767      7.646   5.332 4.69e-06 ***\n",
       "NumDormitorios   39.302      3.799  10.344 1.32e-12 ***\n",
       "---\n",
       "Signif. codes:  0 ‘***’ 0.001 ‘**’ 0.01 ‘*’ 0.05 ‘.’ 0.1 ‘ ’ 1\n",
       "\n",
       "Residual standard error: 29.33 on 38 degrees of freedom\n",
       "Multiple R-squared:  0.7379,\tAdjusted R-squared:  0.731 \n",
       "F-statistic:   107 on 1 and 38 DF,  p-value: 1.321e-12\n"
      ]
     },
     "metadata": {},
     "output_type": "display_data"
    },
    {
     "data": {
      "text/plain": [
       "\n",
       "Call:\n",
       "lm(formula = Precio ~ MaxOcupantes, data = barrio_sol5var)\n",
       "\n",
       "Residuals:\n",
       "    Min      1Q  Median      3Q     Max \n",
       "-83.378 -18.733  -4.641  16.649 118.622 \n",
       "\n",
       "Coefficients:\n",
       "             Estimate Std. Error t value Pr(>|t|)    \n",
       "(Intercept)    28.219     13.050   2.162    0.037 *  \n",
       "MaxOcupantes   15.316      2.332   6.569 9.49e-08 ***\n",
       "---\n",
       "Signif. codes:  0 ‘***’ 0.001 ‘**’ 0.01 ‘*’ 0.05 ‘.’ 0.1 ‘ ’ 1\n",
       "\n",
       "Residual standard error: 39.21 on 38 degrees of freedom\n",
       "Multiple R-squared:  0.5317,\tAdjusted R-squared:  0.5194 \n",
       "F-statistic: 43.15 on 1 and 38 DF,  p-value: 9.485e-08\n"
      ]
     },
     "metadata": {},
     "output_type": "display_data"
    },
    {
     "data": {
      "text/plain": [
       "\n",
       "Call:\n",
       "lm(formula = Precio ~ MetrosCuadrados, data = barrio_sol5var)\n",
       "\n",
       "Residuals:\n",
       "    Min      1Q  Median      3Q     Max \n",
       "-61.175 -21.635  -6.466  20.533 128.270 \n",
       "\n",
       "Coefficients:\n",
       "                Estimate Std. Error t value Pr(>|t|)    \n",
       "(Intercept)      46.5709    10.3852   4.484 6.55e-05 ***\n",
       "MetrosCuadrados   0.8342     0.1229   6.786 4.80e-08 ***\n",
       "---\n",
       "Signif. codes:  0 ‘***’ 0.001 ‘**’ 0.01 ‘*’ 0.05 ‘.’ 0.1 ‘ ’ 1\n",
       "\n",
       "Residual standard error: 38.53 on 38 degrees of freedom\n",
       "Multiple R-squared:  0.5479,\tAdjusted R-squared:  0.536 \n",
       "F-statistic: 46.05 on 1 and 38 DF,  p-value: 4.795e-08\n"
      ]
     },
     "metadata": {},
     "output_type": "display_data"
    }
   ],
   "source": [
    "model1 <- lm(data = barrio_sol5var, formula = Precio ~ NumBanyos)\n",
    "model2 <- lm(data = barrio_sol5var, formula = Precio ~ NumDormitorios)\n",
    "model3 <- lm(data = barrio_sol5var, formula = Precio ~ MaxOcupantes)\n",
    "model4 <- lm(data = barrio_sol5var, formula = Precio ~ MetrosCuadrados)\n",
    "summary(model1)\n",
    "summary(model2)\n",
    "summary(model3)\n",
    "summary(model4)"
   ]
  },
  {
   "cell_type": "markdown",
   "metadata": {},
   "source": [
    "### <font color='red'> Respuesta. </font><br>\n",
    "\n",
    "<font color='gray'>Calculamos los 4 modelos de regresión lineal, comparando el precio con cada una de las 4 variables, y observamos que el p-value menor lo arroja la regresión lineal del Precio frente al Número de Dormitorios.<br>\n",
    "Esto ya se observaba en la nueva matríz de correlación, ya que la correlación más alta es también la de estas dos variables<br>\n",
    "Concluimos, por tanto que el número de habitaciones es el parámetro más fiable a la hora de conocer el precio de un inmueble en el barrio de Sol.</font>"
   ]
  },
  {
   "cell_type": "markdown",
   "metadata": {},
   "source": [
    "Responde con su correspondiente margen de error del 95%, ¿cuantos euros incrementa el precio del alquiler por cada metro cuadrado extra del piso?"
   ]
  },
  {
   "cell_type": "code",
   "execution_count": 35,
   "metadata": {},
   "outputs": [
    {
     "data": {
      "text/html": [
       "<table>\n",
       "<thead><tr><th></th><th scope=col>2.5 %</th><th scope=col>97.5 %</th></tr></thead>\n",
       "<tbody>\n",
       "\t<tr><th scope=row>(Intercept)</th><td>25.5471054</td><td>67.594737 </td></tr>\n",
       "\t<tr><th scope=row>MetrosCuadrados</th><td> 0.5853331</td><td> 1.083027 </td></tr>\n",
       "</tbody>\n",
       "</table>\n"
      ],
      "text/latex": [
       "\\begin{tabular}{r|ll}\n",
       "  & 2.5 \\% & 97.5 \\%\\\\\n",
       "\\hline\n",
       "\t(Intercept) & 25.5471054 & 67.594737 \\\\\n",
       "\tMetrosCuadrados &  0.5853331 &  1.083027 \\\\\n",
       "\\end{tabular}\n"
      ],
      "text/markdown": [
       "\n",
       "| <!--/--> | 2.5 % | 97.5 % |\n",
       "|---|---|---|\n",
       "| (Intercept) | 25.5471054 | 67.594737  |\n",
       "| MetrosCuadrados |  0.5853331 |  1.083027  |\n",
       "\n"
      ],
      "text/plain": [
       "                2.5 %      97.5 %   \n",
       "(Intercept)     25.5471054 67.594737\n",
       "MetrosCuadrados  0.5853331  1.083027"
      ]
     },
     "metadata": {},
     "output_type": "display_data"
    },
    {
     "data": {
      "text/html": [
       "<dl class=dl-horizontal>\n",
       "\t<dt>(Intercept)</dt>\n",
       "\t\t<dd>46.5709212307076</dd>\n",
       "\t<dt>MetrosCuadrados</dt>\n",
       "\t\t<dd>0.834179905736279</dd>\n",
       "</dl>\n"
      ],
      "text/latex": [
       "\\begin{description*}\n",
       "\\item[(Intercept)] 46.5709212307076\n",
       "\\item[MetrosCuadrados] 0.834179905736279\n",
       "\\end{description*}\n"
      ],
      "text/markdown": [
       "(Intercept)\n",
       ":   46.5709212307076MetrosCuadrados\n",
       ":   0.834179905736279\n",
       "\n"
      ],
      "text/plain": [
       "    (Intercept) MetrosCuadrados \n",
       "     46.5709212       0.8341799 "
      ]
     },
     "metadata": {},
     "output_type": "display_data"
    },
    {
     "data": {
      "image/png": "[encoded data removed]",
      "text/plain": [
       "plot without title"
      ]
     },
     "metadata": {},
     "output_type": "display_data"
    }
   ],
   "source": [
    "confint(model4)\n",
    "model4$coefficients\n",
    "barrio_sol5var$predicted4 <- predict(model4, barrio_sol5var)\n",
    "ggplot(data = barrio_sol5var, aes(x = MetrosCuadrados)) +\n",
    "   geom_point(aes(y = Precio)) +\n",
    "   geom_line(aes(y = predicted4), color = \"blue\") +\n",
    "   theme_bw() + xlab(\"MetrosCuadrados\") + ylab(\"Precio\")"
   ]
  },
  {
   "cell_type": "markdown",
   "metadata": {},
   "source": [
    "### <font color='red'> Respuesta. </font><br>\n",
    "\n",
    "<font color='gray'>La estimación y los intervalos de confianza del modelo lineal del Precio frente a los MetrosCuadrados nos dicen que por cada metro cuadrado extra el aumento del precio de alquiler, en el barrio de Sol, oscilará entre 0.58€ y 1.08€ (margen de error con un intervalo de confianza del 95%).<br>\n",
    "    Se incrementará una media 0.83€/m<sup>2</sup>.\n",
    "</font>"
   ]
  },
  {
   "cell_type": "markdown",
   "metadata": {},
   "source": [
    "Responde con su correspondiente margen de error del 95%, ¿cuantos euros incrementa el precio del alquiler por cada habitación?"
   ]
  },
  {
   "cell_type": "code",
   "execution_count": 36,
   "metadata": {},
   "outputs": [
    {
     "data": {
      "text/html": [
       "<table>\n",
       "<thead><tr><th></th><th scope=col>2.5 %</th><th scope=col>97.5 %</th></tr></thead>\n",
       "<tbody>\n",
       "\t<tr><th scope=row>(Intercept)</th><td>25.28828</td><td>56.24528</td></tr>\n",
       "\t<tr><th scope=row>NumDormitorios</th><td>31.61069</td><td>46.99334</td></tr>\n",
       "</tbody>\n",
       "</table>\n"
      ],
      "text/latex": [
       "\\begin{tabular}{r|ll}\n",
       "  & 2.5 \\% & 97.5 \\%\\\\\n",
       "\\hline\n",
       "\t(Intercept) & 25.28828 & 56.24528\\\\\n",
       "\tNumDormitorios & 31.61069 & 46.99334\\\\\n",
       "\\end{tabular}\n"
      ],
      "text/markdown": [
       "\n",
       "| <!--/--> | 2.5 % | 97.5 % |\n",
       "|---|---|---|\n",
       "| (Intercept) | 25.28828 | 56.24528 |\n",
       "| NumDormitorios | 31.61069 | 46.99334 |\n",
       "\n"
      ],
      "text/plain": [
       "               2.5 %    97.5 %  \n",
       "(Intercept)    25.28828 56.24528\n",
       "NumDormitorios 31.61069 46.99334"
      ]
     },
     "metadata": {},
     "output_type": "display_data"
    },
    {
     "data": {
      "text/html": [
       "<dl class=dl-horizontal>\n",
       "\t<dt>(Intercept)</dt>\n",
       "\t\t<dd>40.76677852349</dd>\n",
       "\t<dt>NumDormitorios</dt>\n",
       "\t\t<dd>39.3020134228188</dd>\n",
       "</dl>\n"
      ],
      "text/latex": [
       "\\begin{description*}\n",
       "\\item[(Intercept)] 40.76677852349\n",
       "\\item[NumDormitorios] 39.3020134228188\n",
       "\\end{description*}\n"
      ],
      "text/markdown": [
       "(Intercept)\n",
       ":   40.76677852349NumDormitorios\n",
       ":   39.3020134228188\n",
       "\n"
      ],
      "text/plain": [
       "   (Intercept) NumDormitorios \n",
       "      40.76678       39.30201 "
      ]
     },
     "metadata": {},
     "output_type": "display_data"
    },
    {
     "data": {
      "image/png": "[encoded data removed]",
      "text/plain": [
       "plot without title"
      ]
     },
     "metadata": {},
     "output_type": "display_data"
    }
   ],
   "source": [
    "confint(model2)\n",
    "model2$coefficients\n",
    "barrio_sol5var$predicted2 <- predict(model2, barrio_sol5var)\n",
    "ggplot(data = barrio_sol5var, aes(x = NumDormitorios)) +\n",
    "   geom_point(aes(y = Precio)) +\n",
    "   geom_line(aes(y = predicted2), color = \"blue\") +\n",
    "   theme_bw() + xlab(\"NumDormitorios\") + ylab(\"Precio\")"
   ]
  },
  {
   "cell_type": "markdown",
   "metadata": {},
   "source": [
    "### <font color='red'> Respuesta. </font><br>\n",
    "\n",
    "<font color='gray'>La estimación y los intervalos de confianza del modelo lineal del Precio frente al Número de Habitaciones nos dicen que por cada habitación extra el aumento del precio de alquiler, en el barrio de Sol, oscilará entre 31.61€ y 46.99€ (margen de error con un intervalo de confianza del 95%).<br>\n",
    "    Se incrementará una media 39.3€/hab.\n",
    "</font>"
   ]
  },
  {
   "cell_type": "markdown",
   "metadata": {},
   "source": [
    "¿Cual es la probabilidad de encontrar, en el barrio de Sol, un apartamento en alquiler con 3 dormitorios?\n",
    "¿Cual es el margen de error de esa probabilidad?"
   ]
  },
  {
   "cell_type": "code",
   "execution_count": 37,
   "metadata": {},
   "outputs": [
    {
     "data": {
      "text/html": [
       "'El número de alquileres con 3 dormitorios en el barrio de Sol es: 55'"
      ],
      "text/latex": [
       "'El número de alquileres con 3 dormitorios en el barrio de Sol es: 55'"
      ],
      "text/markdown": [
       "'El número de alquileres con 3 dormitorios en el barrio de Sol es: 55'"
      ],
      "text/plain": [
       "[1] \"El número de alquileres con 3 dormitorios en el barrio de Sol es: 55\""
      ]
     },
     "metadata": {},
     "output_type": "display_data"
    },
    {
     "data": {
      "text/html": [
       "'El número de apartamentos en el barrio de Sol es: 648'"
      ],
      "text/latex": [
       "'El número de apartamentos en el barrio de Sol es: 648'"
      ],
      "text/markdown": [
       "'El número de apartamentos en el barrio de Sol es: 648'"
      ],
      "text/plain": [
       "[1] \"El número de apartamentos en el barrio de Sol es: 648\""
      ]
     },
     "metadata": {},
     "output_type": "display_data"
    },
    {
     "data": {
      "text/plain": [
       "\n",
       "\tExact binomial test\n",
       "\n",
       "data:  n_3h_Sol[2] and n_ap_Sol[2]\n",
       "number of successes = 55, number of trials = 648, p-value < 2.2e-16\n",
       "alternative hypothesis: true probability of success is not equal to 0.5\n",
       "95 percent confidence interval:\n",
       " 0.06457904 0.10904666\n",
       "sample estimates:\n",
       "probability of success \n",
       "            0.08487654 \n"
      ]
     },
     "metadata": {},
     "output_type": "display_data"
    }
   ],
   "source": [
    "n_3h_Sol <- table(barrio_sol$NumDormitorios == 3)\n",
    "n_ap_Sol <- table(barrio_sol$TipoPropiedad == 'Apartment')\n",
    "\n",
    "paste(\"El número de alquileres con 3 dormitorios en el barrio de Sol es:\", n_3h_Sol[2])\n",
    "paste(\"El número de apartamentos en el barrio de Sol es:\", n_ap_Sol[2])\n",
    "\n",
    "binom.test(n_3h_Sol[2], n_ap_Sol[2])"
   ]
  },
  {
   "cell_type": "markdown",
   "metadata": {},
   "source": [
    "### <font color='red'> Respuesta. </font><br>\n",
    "\n",
    "<font color='gray'>Calculamos el número de alquileres con 3 dormitorios en el barrio de Sol.<br>\n",
    "Calculamos el número de apartamentos en el barrio de Sol.<br>\n",
    "Ejecutamos un test de proporcion binomial para la relación y su salida nos dice que la probabilidad estimada de éxito, la probabilidad estimada para encontrar, en el barrio de Sol, un apartamento en alquiler con 3 dormitorios, es del 8,49%.<br>\n",
    "Con un 95% de fiabilidad, la probabilidad de encontrar, en el barrio de Sol, un apartamento en alquiler con 3 dormitorios, estará en el intervalo entre el 6,46% y el 10,9%.<br>\n",
    "El margen de error sería cualquier porcentaje de probabilidad que estuviese fuera de ese intervalo, las posibles probabilidades fuera del 2,5% - 97,5% del intervalo de confianza. \n",
    "</font>"
   ]
  },
  {
   "cell_type": "markdown",
   "metadata": {},
   "source": [
    "<p style = \"padding: 30px; font-size: 16px; background-color: rgb #ffffc4\"><font color='navy'>Hola Chema.<br><br>\n",
    "    Quería agradecerte en una nota final tu atención y tu dedicación.<br>\n",
    "    Estadística ha sido una asignatura dura, mucha materia, muchos conceptos ciertamente complicados para entenderlos en tan poco margen de tiempo.<br>\n",
    "    Con tu gran disposición, siempre atento a contestar dudas y comentarios, tanto en clase como en Slack, creo con absoluta sinceridad haber aprendido bastante, tanto de la asignatura, como del lenguaje R, que no sobra decirlo, no es fácil.<br>\n",
    "    Ha sido un placer escuchar tus clases y por supuesto recibir tu ayuda.<br>\n",
    "    Espero sigamos en contacto (ya estamos conectados en LinkedIn).<br>\n",
    "    Un afectuoso saludo.<br><br>\n",
    "    Javi Gonzálvez</font></p>"
   ]
  },
  {
   "cell_type": "code",
   "execution_count": null,
   "metadata": {},
   "outputs": [],
   "source": []
  }
 ],
 "metadata": {
  "kernelspec": {
   "display_name": "R",
   "language": "R",
   "name": "ir"
  },
  "language_info": {
   "codemirror_mode": "r",
   "file_extension": ".r",
   "mimetype": "text/x-r-source",
   "name": "R",
   "pygments_lexer": "r",
   "version": "3.4.4"
  }
 },
 "nbformat": 4,
 "nbformat_minor": 2
}
